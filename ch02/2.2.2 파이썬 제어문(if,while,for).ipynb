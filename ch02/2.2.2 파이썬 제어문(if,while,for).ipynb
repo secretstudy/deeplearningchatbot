{
 "cells": [
  {
   "cell_type": "markdown",
   "id": "35c2e421",
   "metadata": {},
   "source": [
    "# if 문"
   ]
  },
  {
   "cell_type": "code",
   "execution_count": 1,
   "id": "8f9f4afc",
   "metadata": {},
   "outputs": [
    {
     "name": "stdout",
     "output_type": "stream",
     "text": [
      "-------------\n",
      "check is true\n",
      "-------------\n"
     ]
    }
   ],
   "source": [
    "check = True\n",
    "if check: #check가 True일 경우\n",
    "    print('-' * 13) # '-' 문자를 13번 출력\n",
    "    print('check is true')\n",
    "    print('-' * 13) # '-' 문자를 13번 출력"
   ]
  },
  {
   "cell_type": "code",
   "execution_count": 2,
   "id": "862ecee8",
   "metadata": {},
   "outputs": [
    {
     "name": "stdout",
     "output_type": "stream",
     "text": [
      "---------------\n",
      "check is false\n",
      "---------------\n"
     ]
    }
   ],
   "source": [
    "check = False\n",
    "if not check: \n",
    "    print('-' * 15) \n",
    "    print('check is false')\n",
    "    print('-' * 15) "
   ]
  },
  {
   "cell_type": "code",
   "execution_count": 17,
   "id": "c57dab12",
   "metadata": {},
   "outputs": [
    {
     "name": "stdout",
     "output_type": "stream",
     "text": [
      "---------------\n",
      "check is false\n",
      "---------------\n"
     ]
    }
   ],
   "source": [
    "check = False\n",
    "if check == False: \n",
    "        print('-' * 15) \n",
    "        print('check is false')\n",
    "        print('-' * 15) "
   ]
  },
  {
   "cell_type": "code",
   "execution_count": 18,
   "id": "7bd39165",
   "metadata": {},
   "outputs": [
    {
     "name": "stdout",
     "output_type": "stream",
     "text": [
      "---------------\n",
      "check is false\n",
      "---------------\n"
     ]
    }
   ],
   "source": [
    "\n",
    "if check != True: \n",
    "    print('-' * 15)\n",
    "    print('check is false')\n",
    "    print('-' * 15) "
   ]
  },
  {
   "cell_type": "code",
   "execution_count": 21,
   "id": "993e6f1e",
   "metadata": {},
   "outputs": [
    {
     "name": "stdout",
     "output_type": "stream",
     "text": [
      "You are not an adult\n"
     ]
    }
   ],
   "source": [
    "age = 14\n",
    "if age >= 19:\n",
    "        print('You are an adult')\n",
    "else: \n",
    "    print(\"You are not an adult\")"
   ]
  },
  {
   "cell_type": "code",
   "execution_count": 24,
   "id": "20662911",
   "metadata": {},
   "outputs": [
    {
     "name": "stdout",
     "output_type": "stream",
     "text": [
      "B\n"
     ]
    }
   ],
   "source": [
    "score = 84\n",
    "if score >= 90:\n",
    "    print('A')\n",
    "elif score >= 80:\n",
    "        print('B')\n",
    "elif score >= 70:\n",
    "    print('C')\n",
    "elif score >= 60:\n",
    "    print('D')"
   ]
  },
  {
   "cell_type": "code",
   "execution_count": 25,
   "id": "285fb18c",
   "metadata": {},
   "outputs": [
    {
     "name": "stdout",
     "output_type": "stream",
     "text": [
      "OVER\n"
     ]
    }
   ],
   "source": [
    "dist = 300\n",
    "if dist >=0 and dist <= 50:# 0~50일때\n",
    "    print(\"0~50\")\n",
    "elif dist >50 and dist <= 100:\n",
    "    print(\"51~100\")\n",
    "else:\n",
    "    print('OVER')\n"
   ]
  },
  {
   "cell_type": "markdown",
   "id": "40e047de",
   "metadata": {},
   "source": [
    "# while 반복문"
   ]
  },
  {
   "cell_type": "code",
   "execution_count": 1,
   "id": "65ba9a64",
   "metadata": {},
   "outputs": [
    {
     "name": "stdout",
     "output_type": "stream",
     "text": [
      "i=1\n",
      "i=2\n",
      "i=3\n",
      "i=4\n",
      "i=5\n",
      "i=6\n",
      "i=7\n",
      "i=8\n",
      "i=9\n",
      "i=10\n"
     ]
    }
   ],
   "source": [
    "i = 1\n",
    "while i<=10: # 1~10\n",
    "    print('i=%d' % i)\n",
    "    i+=1\n"
   ]
  },
  {
   "cell_type": "code",
   "execution_count": null,
   "id": "2f7067f0",
   "metadata": {},
   "outputs": [],
   "source": [
    "print()"
   ]
  },
  {
   "cell_type": "code",
   "execution_count": null,
   "id": "a7ecf6ef",
   "metadata": {},
   "outputs": [
    {
     "name": "stdout",
     "output_type": "stream",
     "text": [
      "input number : \n",
      "3\n",
      "input number : \n",
      "6\n",
      "input number : \n",
      "88\n",
      "input number : \n",
      "99\n",
      "input number : \n"
     ]
    }
   ],
   "source": [
    "while 1:\n",
    "    print('input number : ')\n",
    "    menu = int(input())\n",
    "    if menu == 0 : break # 0을 입력하면 종료\n",
    "    elif menu == 1: print('number one')\n",
    "    elif menu == 99:\n",
    "            continue\n",
    "    elif menu == 2:\n",
    "        print('number two')"
   ]
  },
  {
   "cell_type": "markdown",
   "id": "f6dcd57f",
   "metadata": {},
   "source": [
    "# for 반복문"
   ]
  },
  {
   "cell_type": "code",
   "execution_count": 1,
   "id": "e4ff9d2e",
   "metadata": {},
   "outputs": [
    {
     "name": "stdout",
     "output_type": "stream",
     "text": [
      "1\n",
      "2\n",
      "3\n",
      "4\n",
      "5\n"
     ]
    }
   ],
   "source": [
    "numbers = [1,2,3,4,5]\n",
    "for n in numbers:\n",
    "        print(n)\n",
    "        "
   ]
  },
  {
   "cell_type": "code",
   "execution_count": 1,
   "id": "b347a93a",
   "metadata": {},
   "outputs": [
    {
     "name": "stdout",
     "output_type": "stream",
     "text": [
      "1\n",
      "2\n",
      "3\n",
      "4\n",
      "5\n"
     ]
    }
   ],
   "source": [
    "numbers = range(1,6)#1~5까지\n",
    "for n in numbers:\n",
    "    print(n)"
   ]
  },
  {
   "cell_type": "code",
   "execution_count": 2,
   "id": "09f72b16",
   "metadata": {},
   "outputs": [
    {
     "name": "stdout",
     "output_type": "stream",
     "text": [
      "0 0\n",
      "10 15\n",
      "20 25\n"
     ]
    }
   ],
   "source": [
    "# 좌표(x,y)를 저장하는 리스트 출력 \n",
    "\n",
    "coord = [(0,0),(10,15), (20,25)]\n",
    "for x, y in coord:\n",
    "    print(x, y)\n",
    "    "
   ]
  },
  {
   "cell_type": "code",
   "execution_count": 4,
   "id": "1272bbfe",
   "metadata": {},
   "outputs": [
    {
     "data": {
      "text/plain": [
       "dict_keys(['name', 'age', 'nationality'])"
      ]
     },
     "execution_count": 4,
     "metadata": {},
     "output_type": "execute_result"
    }
   ],
   "source": [
    "user = {'name' : 'Kei', 'age' : 35,'nationality' : 'Korea'}\n",
    "user.keys()"
   ]
  },
  {
   "cell_type": "code",
   "execution_count": 5,
   "id": "ab21872a",
   "metadata": {},
   "outputs": [
    {
     "name": "stdout",
     "output_type": "stream",
     "text": [
      "name\n",
      "age\n",
      "nationality\n"
     ]
    }
   ],
   "source": [
    "user = {'name' : 'Kei', 'age' : 35,'nationality' : 'Korea'}\n",
    "for k in user.keys():\n",
    "    print(k)"
   ]
  },
  {
   "cell_type": "code",
   "execution_count": 6,
   "id": "c708cb68",
   "metadata": {},
   "outputs": [
    {
     "data": {
      "text/plain": [
       "dict_values(['Kei', 35, 'Korea'])"
      ]
     },
     "execution_count": 6,
     "metadata": {},
     "output_type": "execute_result"
    }
   ],
   "source": [
    "user = {'name' : 'Kei', 'age' : 35,'nationality' : 'Korea'}\n",
    "user.values()\n"
   ]
  },
  {
   "cell_type": "code",
   "execution_count": 7,
   "id": "e7eb88d4",
   "metadata": {},
   "outputs": [
    {
     "name": "stdout",
     "output_type": "stream",
     "text": [
      "Kei\n",
      "35\n",
      "Korea\n"
     ]
    }
   ],
   "source": [
    "user = {'name' : 'Kei', 'age' : 35,'nationality' : 'Korea'}\n",
    "for v in user.values():\n",
    "    print(v)"
   ]
  },
  {
   "cell_type": "code",
   "execution_count": 8,
   "id": "0a50adeb",
   "metadata": {},
   "outputs": [
    {
     "data": {
      "text/plain": [
       "dict_items([('name', 'Kei'), ('age', 35), ('nationality', 'Korea')])"
      ]
     },
     "execution_count": 8,
     "metadata": {},
     "output_type": "execute_result"
    }
   ],
   "source": [
    "user = {'name' : 'Kei', 'age' : 35,'nationality' : 'Korea'}\n",
    "user.items() # 데이터 쌍 리스트 출력"
   ]
  },
  {
   "cell_type": "code",
   "execution_count": 9,
   "id": "7d99d13c",
   "metadata": {},
   "outputs": [
    {
     "name": "stdout",
     "output_type": "stream",
     "text": [
      "name Kei\n",
      "age 35\n",
      "nationality Korea\n"
     ]
    }
   ],
   "source": [
    "user = {'name' : 'Kei', 'age' : 35,'nationality' : 'Korea'}\n",
    "for k,v in user.items():\n",
    "    print(k, v)"
   ]
  },
  {
   "cell_type": "code",
   "execution_count": null,
   "id": "de1361bd",
   "metadata": {},
   "outputs": [],
   "source": []
  }
 ],
 "metadata": {
  "kernelspec": {
   "display_name": "Python 3 (ipykernel)",
   "language": "python",
   "name": "python3"
  },
  "language_info": {
   "codemirror_mode": {
    "name": "ipython",
    "version": 3
   },
   "file_extension": ".py",
   "mimetype": "text/x-python",
   "name": "python",
   "nbconvert_exporter": "python",
   "pygments_lexer": "ipython3",
   "version": "3.11.3"
  }
 },
 "nbformat": 4,
 "nbformat_minor": 5
}
