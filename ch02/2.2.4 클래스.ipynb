{
 "cells": [
  {
   "cell_type": "code",
   "execution_count": 1,
   "id": "1cbf4e8e",
   "metadata": {},
   "outputs": [
    {
     "name": "stdout",
     "output_type": "stream",
     "text": [
      "say hello\n",
      "My name ius kbot :D\n"
     ]
    }
   ],
   "source": [
    "class Chatbot :\n",
    "    def sayHello(self):\n",
    "        print(\"say hello\")\n",
    "        \n",
    "    def sayMyName(self):\n",
    "        print(\"My name ius kbot :D\")\n",
    "        \n",
    "chatbot = Chatbot()\n",
    "chatbot.sayHello()\n",
    "chatbot.sayMyName()"
   ]
  },
  {
   "cell_type": "markdown",
   "id": "cb45c6eb",
   "metadata": {},
   "source": [
    "# 생성자 및 소멸자"
   ]
  },
  {
   "cell_type": "code",
   "execution_count": 2,
   "id": "925b9cde",
   "metadata": {},
   "outputs": [
    {
     "name": "stdout",
     "output_type": "stream",
     "text": [
      "call __init__()\n",
      "obj instance is alive\n",
      "call __del__()\n"
     ]
    }
   ],
   "source": [
    "class SimpleObj:\n",
    "    def __init__(self):\n",
    "        print('call __init__()')\n",
    "    def __del__(self):\n",
    "        print('call __del__()')\n",
    "        \n",
    "obj = SimpleObj()\n",
    "print('obj instance is alive')\n",
    "del obj"
   ]
  },
  {
   "cell_type": "markdown",
   "id": "0222fa5f",
   "metadata": {},
   "source": [
    "# 메서드와 인스턴수 변수"
   ]
  },
  {
   "cell_type": "code",
   "execution_count": 11,
   "id": "5ec783f9",
   "metadata": {},
   "outputs": [
    {
     "name": "stdout",
     "output_type": "stream",
     "text": [
      "value = 100\n",
      "a=200,b=50,c=200,d=50.0\n"
     ]
    }
   ],
   "source": [
    "class Calc:#사칙 연산 클래스\n",
    "    def __init__(self, init_value):\n",
    "        self.value = init_value\n",
    "        \n",
    "    def add(self,n):\n",
    "        return self.value + n\n",
    "    \n",
    "    def sub(self,n):\n",
    "        return self.value - n\n",
    "    \n",
    "    def mul(self,n):\n",
    "        return self.value * n\n",
    "    \n",
    "    def div(self,n):\n",
    "        return self.value / n\n",
    "    \n",
    "cal = Calc(100)\n",
    "print(\"value = {0}\".format(cal.value))\n",
    "    \n",
    "a = cal.add(100)\n",
    "b = cal.sub(50)\n",
    "c = cal.mul(2)\n",
    "d = cal.div(2)\n",
    "    \n",
    "print(\"a={0},b={1},c={2},d={3}\".format(a,b,c,d))\n",
    "    "
   ]
  },
  {
   "cell_type": "code",
   "execution_count": null,
   "id": "bac8f612",
   "metadata": {},
   "outputs": [],
   "source": []
  }
 ],
 "metadata": {
  "kernelspec": {
   "display_name": "Python 3 (ipykernel)",
   "language": "python",
   "name": "python3"
  },
  "language_info": {
   "codemirror_mode": {
    "name": "ipython",
    "version": 3
   },
   "file_extension": ".py",
   "mimetype": "text/x-python",
   "name": "python",
   "nbconvert_exporter": "python",
   "pygments_lexer": "ipython3",
   "version": "3.11.3"
  }
 },
 "nbformat": 4,
 "nbformat_minor": 5
}
