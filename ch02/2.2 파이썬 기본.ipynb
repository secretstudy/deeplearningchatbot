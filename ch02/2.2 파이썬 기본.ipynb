{
 "cells": [
  {
   "cell_type": "markdown",
   "id": "6f879571",
   "metadata": {},
   "source": [
    "# 1. 숫자"
   ]
  },
  {
   "cell_type": "markdown",
   "id": "5ed7212e",
   "metadata": {},
   "source": [
    "## 예제 2-1 정수 계산"
   ]
  },
  {
   "cell_type": "code",
   "execution_count": 1,
   "id": "bc91dc81",
   "metadata": {},
   "outputs": [
    {
     "data": {
      "text/plain": [
       "15"
      ]
     },
     "execution_count": 1,
     "metadata": {},
     "output_type": "execute_result"
    }
   ],
   "source": [
    "10 + 5"
   ]
  },
  {
   "cell_type": "code",
   "execution_count": 4,
   "id": "4f85351e",
   "metadata": {},
   "outputs": [
    {
     "data": {
      "text/plain": [
       "10"
      ]
     },
     "execution_count": 4,
     "metadata": {},
     "output_type": "execute_result"
    }
   ],
   "source": [
    "(10 - 5) * 2"
   ]
  },
  {
   "cell_type": "code",
   "execution_count": 5,
   "id": "5a88d143",
   "metadata": {},
   "outputs": [
    {
     "data": {
      "text/plain": [
       "5.0"
      ]
     },
     "execution_count": 5,
     "metadata": {},
     "output_type": "execute_result"
    }
   ],
   "source": [
    "10 / 2"
   ]
  },
  {
   "cell_type": "markdown",
   "id": "162a719b",
   "metadata": {},
   "source": [
    "## 예제 2-2 실수 계산"
   ]
  },
  {
   "cell_type": "code",
   "execution_count": 6,
   "id": "da3626c6",
   "metadata": {},
   "outputs": [
    {
     "data": {
      "text/plain": [
       "11.0"
      ]
     },
     "execution_count": 6,
     "metadata": {},
     "output_type": "execute_result"
    }
   ],
   "source": [
    "2.2 * 5"
   ]
  },
  {
   "cell_type": "code",
   "execution_count": 7,
   "id": "a4664b80",
   "metadata": {},
   "outputs": [
    {
     "data": {
      "text/plain": [
       "5.0"
      ]
     },
     "execution_count": 7,
     "metadata": {},
     "output_type": "execute_result"
    }
   ],
   "source": [
    "1.0 / 0.2"
   ]
  },
  {
   "cell_type": "code",
   "execution_count": 8,
   "id": "91fbbc03",
   "metadata": {},
   "outputs": [
    {
     "data": {
      "text/plain": [
       "1.5"
      ]
     },
     "execution_count": 8,
     "metadata": {},
     "output_type": "execute_result"
    }
   ],
   "source": [
    "3/2"
   ]
  },
  {
   "cell_type": "markdown",
   "id": "6b226bf2",
   "metadata": {},
   "source": [
    "## 예제 2-3 /,//,% 연산자 사용"
   ]
  },
  {
   "cell_type": "code",
   "execution_count": 9,
   "id": "5956cd34",
   "metadata": {},
   "outputs": [
    {
     "data": {
      "text/plain": [
       "1.5"
      ]
     },
     "execution_count": 9,
     "metadata": {},
     "output_type": "execute_result"
    }
   ],
   "source": [
    "3/2"
   ]
  },
  {
   "cell_type": "code",
   "execution_count": 10,
   "id": "32b9f73b",
   "metadata": {},
   "outputs": [
    {
     "data": {
      "text/plain": [
       "1"
      ]
     },
     "execution_count": 10,
     "metadata": {},
     "output_type": "execute_result"
    }
   ],
   "source": [
    "3//2"
   ]
  },
  {
   "cell_type": "code",
   "execution_count": 11,
   "id": "c20f7257",
   "metadata": {},
   "outputs": [
    {
     "data": {
      "text/plain": [
       "2.5"
      ]
     },
     "execution_count": 11,
     "metadata": {},
     "output_type": "execute_result"
    }
   ],
   "source": [
    "5/2"
   ]
  },
  {
   "cell_type": "code",
   "execution_count": 12,
   "id": "7fa4cd47",
   "metadata": {},
   "outputs": [
    {
     "data": {
      "text/plain": [
       "2"
      ]
     },
     "execution_count": 12,
     "metadata": {},
     "output_type": "execute_result"
    }
   ],
   "source": [
    "5//2"
   ]
  },
  {
   "cell_type": "code",
   "execution_count": 13,
   "id": "dac8aa58",
   "metadata": {},
   "outputs": [
    {
     "data": {
      "text/plain": [
       "1"
      ]
     },
     "execution_count": 13,
     "metadata": {},
     "output_type": "execute_result"
    }
   ],
   "source": [
    "5%2"
   ]
  },
  {
   "cell_type": "markdown",
   "id": "737c1887",
   "metadata": {},
   "source": [
    "## 예제 2-4 거듭제곱"
   ]
  },
  {
   "cell_type": "code",
   "execution_count": 14,
   "id": "0fdcb7d8",
   "metadata": {},
   "outputs": [
    {
     "data": {
      "text/plain": [
       "32"
      ]
     },
     "execution_count": 14,
     "metadata": {},
     "output_type": "execute_result"
    }
   ],
   "source": [
    "2 ** 5"
   ]
  },
  {
   "cell_type": "code",
   "execution_count": 15,
   "id": "b15c3b81",
   "metadata": {},
   "outputs": [
    {
     "data": {
      "text/plain": [
       "1024"
      ]
     },
     "execution_count": 15,
     "metadata": {},
     "output_type": "execute_result"
    }
   ],
   "source": [
    "2 ** 10"
   ]
  },
  {
   "cell_type": "markdown",
   "id": "c2da2891",
   "metadata": {},
   "source": [
    "## 예제 2-5 변수 사용"
   ]
  },
  {
   "cell_type": "code",
   "execution_count": 17,
   "id": "37a37ad0",
   "metadata": {},
   "outputs": [
    {
     "data": {
      "text/plain": [
       "200"
      ]
     },
     "execution_count": 17,
     "metadata": {},
     "output_type": "execute_result"
    }
   ],
   "source": [
    "a = 10\n",
    "b = 20\n",
    "a * b "
   ]
  },
  {
   "cell_type": "markdown",
   "id": "28d55d4a",
   "metadata": {},
   "source": [
    "# 문자열"
   ]
  },
  {
   "cell_type": "markdown",
   "id": "ea93ec06",
   "metadata": {},
   "source": [
    "## 예제 2-6 문자열"
   ]
  },
  {
   "cell_type": "code",
   "execution_count": 18,
   "id": "448419d2",
   "metadata": {},
   "outputs": [
    {
     "data": {
      "text/plain": [
       "'1234'"
      ]
     },
     "execution_count": 18,
     "metadata": {},
     "output_type": "execute_result"
    }
   ],
   "source": [
    "'1234'"
   ]
  },
  {
   "cell_type": "code",
   "execution_count": 19,
   "id": "052d4fd2",
   "metadata": {},
   "outputs": [
    {
     "data": {
      "text/plain": [
       "'hello'"
      ]
     },
     "execution_count": 19,
     "metadata": {},
     "output_type": "execute_result"
    }
   ],
   "source": [
    "'hello'"
   ]
  },
  {
   "cell_type": "code",
   "execution_count": 22,
   "id": "e9ecab25",
   "metadata": {},
   "outputs": [
    {
     "data": {
      "text/plain": [
       "'hello'"
      ]
     },
     "execution_count": 22,
     "metadata": {},
     "output_type": "execute_result"
    }
   ],
   "source": [
    "\"hello\""
   ]
  },
  {
   "cell_type": "markdown",
   "id": "d582f44a",
   "metadata": {},
   "source": [
    "## 예제 2-7 문자열 변수 사용(1)"
   ]
  },
  {
   "cell_type": "code",
   "execution_count": 23,
   "id": "9108c664",
   "metadata": {},
   "outputs": [
    {
     "data": {
      "text/plain": [
       "'Hello'"
      ]
     },
     "execution_count": 23,
     "metadata": {},
     "output_type": "execute_result"
    }
   ],
   "source": [
    "msg = 'Hello'\n",
    "msg"
   ]
  },
  {
   "cell_type": "code",
   "execution_count": 24,
   "id": "f3486179",
   "metadata": {},
   "outputs": [
    {
     "data": {
      "text/plain": [
       "'err 404'"
      ]
     },
     "execution_count": 24,
     "metadata": {},
     "output_type": "execute_result"
    }
   ],
   "source": [
    "error = \"err 404\"\n",
    "error"
   ]
  },
  {
   "cell_type": "markdown",
   "id": "61000440",
   "metadata": {},
   "source": [
    "## 예제 2-8 문자열 변수 사용(2)"
   ]
  },
  {
   "cell_type": "code",
   "execution_count": 26,
   "id": "a73281cd",
   "metadata": {},
   "outputs": [
    {
     "data": {
      "text/plain": [
       "'\"Nice to meet you\", chatbot says'"
      ]
     },
     "execution_count": 26,
     "metadata": {},
     "output_type": "execute_result"
    }
   ],
   "source": [
    "msg1 = '\"Nice to meet you\", chatbot says'\n",
    "msg1"
   ]
  },
  {
   "cell_type": "code",
   "execution_count": 28,
   "id": "f98b9780",
   "metadata": {},
   "outputs": [
    {
     "data": {
      "text/plain": [
       "\"I'm programming now\""
      ]
     },
     "execution_count": 28,
     "metadata": {},
     "output_type": "execute_result"
    }
   ],
   "source": [
    "msg2 = \"I'm programming now\"\n",
    "msg2"
   ]
  },
  {
   "cell_type": "markdown",
   "id": "40413d2e",
   "metadata": {},
   "source": [
    "## 예제 2-9 멀티라인 문자열(1)"
   ]
  },
  {
   "cell_type": "code",
   "execution_count": 29,
   "id": "f690a11a",
   "metadata": {},
   "outputs": [
    {
     "data": {
      "text/plain": [
       "'Hello\\nbro!!'"
      ]
     },
     "execution_count": 29,
     "metadata": {},
     "output_type": "execute_result"
    }
   ],
   "source": [
    "msg3 = 'Hello\\nbro!!'\n",
    "msg3"
   ]
  },
  {
   "cell_type": "code",
   "execution_count": 32,
   "id": "2faa1fe4",
   "metadata": {},
   "outputs": [
    {
     "name": "stdout",
     "output_type": "stream",
     "text": [
      "Hello\n",
      "bro!!\n"
     ]
    }
   ],
   "source": [
    "print(msg3) # \\를 print함수로 출력하면 줄바꿈 된다"
   ]
  },
  {
   "cell_type": "markdown",
   "id": "b4049a3d",
   "metadata": {},
   "source": [
    "## 예제 2-10 멀티라인 문자열(2)"
   ]
  },
  {
   "cell_type": "code",
   "execution_count": 33,
   "id": "2089670b",
   "metadata": {},
   "outputs": [
    {
     "data": {
      "text/plain": [
       "'Hello\\n...bro!!'"
      ]
     },
     "execution_count": 33,
     "metadata": {},
     "output_type": "execute_result"
    }
   ],
   "source": [
    "msg4 = '''Hello\n",
    "...bro!!'''\n",
    "msg4"
   ]
  },
  {
   "cell_type": "code",
   "execution_count": 35,
   "id": "e3ca1ffd",
   "metadata": {},
   "outputs": [
    {
     "name": "stdout",
     "output_type": "stream",
     "text": [
      "Hello\n",
      "...bro!!\n"
     ]
    }
   ],
   "source": [
    "print(msg4) # print 함수를 사용하면 \\ 안쓰고도 줄바꿈 할 수 있다"
   ]
  },
  {
   "cell_type": "markdown",
   "id": "8a99e239",
   "metadata": {},
   "source": [
    "## 예제 2-11 멀티라인 문자열(3)"
   ]
  },
  {
   "cell_type": "code",
   "execution_count": 37,
   "id": "529e68fa",
   "metadata": {
    "scrolled": true
   },
   "outputs": [
    {
     "data": {
      "text/plain": [
       "'Hello\\nbro!!'"
      ]
     },
     "execution_count": 37,
     "metadata": {},
     "output_type": "execute_result"
    }
   ],
   "source": [
    "msg5 = \"\"\"Hello\n",
    "bro!!\"\"\"\n",
    "msg5"
   ]
  },
  {
   "cell_type": "code",
   "execution_count": 38,
   "id": "0ed5b871",
   "metadata": {},
   "outputs": [
    {
     "name": "stdout",
     "output_type": "stream",
     "text": [
      "Hello\n",
      "bro!!\n"
     ]
    }
   ],
   "source": [
    "print(msg5) # \"\"도 동일하게 적용"
   ]
  },
  {
   "cell_type": "markdown",
   "id": "f8c1f030",
   "metadata": {},
   "source": [
    "# 리스트"
   ]
  },
  {
   "cell_type": "markdown",
   "id": "7e99be3a",
   "metadata": {},
   "source": [
    "## 예제 2-12 리스트의 정의"
   ]
  },
  {
   "cell_type": "code",
   "execution_count": 39,
   "id": "0bfe448c",
   "metadata": {},
   "outputs": [
    {
     "data": {
      "text/plain": [
       "[1, 2, 3, 4, 5]"
      ]
     },
     "execution_count": 39,
     "metadata": {},
     "output_type": "execute_result"
    }
   ],
   "source": [
    "numbers = [1,2,3,4,5]\n",
    "numbers"
   ]
  },
  {
   "cell_type": "code",
   "execution_count": 95,
   "id": "935759cb",
   "metadata": {},
   "outputs": [
    {
     "data": {
      "text/plain": [
       "[1.0, 2.0, 3.0, 4, 5]"
      ]
     },
     "execution_count": 95,
     "metadata": {},
     "output_type": "execute_result"
    }
   ],
   "source": [
    "real_numbers = [1.0,2.0,3.0,4,5] # 실수형과 정수형 같이 삽입 가능\n",
    "real_numbers"
   ]
  },
  {
   "cell_type": "code",
   "execution_count": 41,
   "id": "9db79847",
   "metadata": {},
   "outputs": [
    {
     "data": {
      "text/plain": [
       "list"
      ]
     },
     "execution_count": 41,
     "metadata": {},
     "output_type": "execute_result"
    }
   ],
   "source": [
    "type(real_numbers)"
   ]
  },
  {
   "cell_type": "markdown",
   "id": "646b9aee",
   "metadata": {},
   "source": [
    "## 예제 2-13 리스트 인덱싱 및 슬라이싱"
   ]
  },
  {
   "cell_type": "code",
   "execution_count": 42,
   "id": "f85607da",
   "metadata": {},
   "outputs": [
    {
     "data": {
      "text/plain": [
       "[1, 2, 3, 4, 5]"
      ]
     },
     "execution_count": 42,
     "metadata": {},
     "output_type": "execute_result"
    }
   ],
   "source": [
    "numbers = [1,2,3,4,5]\n",
    "numbers"
   ]
  },
  {
   "cell_type": "code",
   "execution_count": 43,
   "id": "fa8b0ab6",
   "metadata": {},
   "outputs": [
    {
     "data": {
      "text/plain": [
       "2"
      ]
     },
     "execution_count": 43,
     "metadata": {},
     "output_type": "execute_result"
    }
   ],
   "source": [
    "numbers[1] # 앞에서 첫번째"
   ]
  },
  {
   "cell_type": "code",
   "execution_count": 44,
   "id": "b92f37f6",
   "metadata": {},
   "outputs": [
    {
     "data": {
      "text/plain": [
       "5"
      ]
     },
     "execution_count": 44,
     "metadata": {},
     "output_type": "execute_result"
    }
   ],
   "source": [
    "numbers[-1] # 뒤에서 1번째"
   ]
  },
  {
   "cell_type": "code",
   "execution_count": 45,
   "id": "341a025e",
   "metadata": {},
   "outputs": [
    {
     "data": {
      "text/plain": [
       "[3, 4, 5]"
      ]
     },
     "execution_count": 45,
     "metadata": {},
     "output_type": "execute_result"
    }
   ],
   "source": [
    "numbers[2:] # 2번재부터 출력"
   ]
  },
  {
   "cell_type": "code",
   "execution_count": 49,
   "id": "a2c34fb8",
   "metadata": {},
   "outputs": [
    {
     "data": {
      "text/plain": [
       "[4, 5]"
      ]
     },
     "execution_count": 49,
     "metadata": {},
     "output_type": "execute_result"
    }
   ],
   "source": [
    "numbers[-2:] # 뒤에서 2번째부터 출력"
   ]
  },
  {
   "cell_type": "code",
   "execution_count": 48,
   "id": "d89b81ca",
   "metadata": {},
   "outputs": [
    {
     "data": {
      "text/plain": [
       "[1, 2, 3]"
      ]
     },
     "execution_count": 48,
     "metadata": {},
     "output_type": "execute_result"
    }
   ],
   "source": [
    "numbers[0:-2] # 0번째 부터 뒤에서 2번재 까지 출력"
   ]
  },
  {
   "cell_type": "markdown",
   "id": "23c1bdbe",
   "metadata": {},
   "source": [
    "## 예제 2-14 리스트 요소 수정([0] = 9)"
   ]
  },
  {
   "cell_type": "code",
   "execution_count": 50,
   "id": "c25d2e5d",
   "metadata": {},
   "outputs": [
    {
     "data": {
      "text/plain": [
       "[1, 2, 3, 4, 5]"
      ]
     },
     "execution_count": 50,
     "metadata": {},
     "output_type": "execute_result"
    }
   ],
   "source": [
    "numbers = [1,2,3,4,5]\n",
    "numbers"
   ]
  },
  {
   "cell_type": "code",
   "execution_count": 52,
   "id": "42f3f5bd",
   "metadata": {},
   "outputs": [
    {
     "data": {
      "text/plain": [
       "[9, 2, 3, 4, 5]"
      ]
     },
     "execution_count": 52,
     "metadata": {},
     "output_type": "execute_result"
    }
   ],
   "source": [
    "numbers[0] = 9 # 0번째에 9저장\n",
    "numbers"
   ]
  },
  {
   "cell_type": "markdown",
   "id": "10510acb",
   "metadata": {},
   "source": [
    "## 예제 2-15 리스트 요소 추가(append)"
   ]
  },
  {
   "cell_type": "code",
   "execution_count": 56,
   "id": "39d01bdb",
   "metadata": {},
   "outputs": [
    {
     "data": {
      "text/plain": [
       "[1, 2, 3, 4, 5]"
      ]
     },
     "execution_count": 56,
     "metadata": {},
     "output_type": "execute_result"
    }
   ],
   "source": [
    "numbers = [1,2,3,4,5]\n",
    "numbers"
   ]
  },
  {
   "cell_type": "code",
   "execution_count": 57,
   "id": "8932d876",
   "metadata": {},
   "outputs": [
    {
     "data": {
      "text/plain": [
       "[1, 2, 3, 4, 5, 9]"
      ]
     },
     "execution_count": 57,
     "metadata": {},
     "output_type": "execute_result"
    }
   ],
   "source": [
    "numbers.append(9) # 마지막 리스트에 9 추가\n",
    "numbers"
   ]
  },
  {
   "cell_type": "markdown",
   "id": "f6f56bad",
   "metadata": {},
   "source": [
    "## 예제 2-16 리스트 요소 삽입(insert)"
   ]
  },
  {
   "cell_type": "code",
   "execution_count": 58,
   "id": "8e57faf2",
   "metadata": {},
   "outputs": [
    {
     "data": {
      "text/plain": [
       "[1, 2, 3, 4, 5]"
      ]
     },
     "execution_count": 58,
     "metadata": {},
     "output_type": "execute_result"
    }
   ],
   "source": [
    "numbers = [1,2,3,4,5]\n",
    "numbers"
   ]
  },
  {
   "cell_type": "code",
   "execution_count": 59,
   "id": "3a9d22e1",
   "metadata": {},
   "outputs": [
    {
     "data": {
      "text/plain": [
       "[1, 1.5, 2, 3, 4, 5]"
      ]
     },
     "execution_count": 59,
     "metadata": {},
     "output_type": "execute_result"
    }
   ],
   "source": [
    "numbers.insert(1, 1.5)# 1번째 리스트에 1.5 삽입\n",
    "numbers#기존에 1번째 값인 2 가 뒤로 밀리면서 1.5가 삽입"
   ]
  },
  {
   "cell_type": "markdown",
   "id": "fe8176a6",
   "metadata": {},
   "source": [
    "## 예제 2-17 리스트 요소 꺼내고 삭제(1) pop()"
   ]
  },
  {
   "cell_type": "code",
   "execution_count": 65,
   "id": "d14c0424",
   "metadata": {},
   "outputs": [
    {
     "data": {
      "text/plain": [
       "[1, 2, 3, 4, 5]"
      ]
     },
     "execution_count": 65,
     "metadata": {},
     "output_type": "execute_result"
    }
   ],
   "source": [
    "numbers = [1,2,3,4,5]\n",
    "numbers"
   ]
  },
  {
   "cell_type": "code",
   "execution_count": 66,
   "id": "07639b78",
   "metadata": {},
   "outputs": [
    {
     "data": {
      "text/plain": [
       "5"
      ]
     },
     "execution_count": 66,
     "metadata": {},
     "output_type": "execute_result"
    }
   ],
   "source": [
    "numbers.pop() # 리스트 마지막 값 거내고 삭제\n",
    "#삭제한 값 출력"
   ]
  },
  {
   "cell_type": "markdown",
   "id": "fb69fe8f",
   "metadata": {},
   "source": [
    "## 예제 2-18 리스트 요소 꺼내고 삭제(2)"
   ]
  },
  {
   "cell_type": "code",
   "execution_count": 82,
   "id": "aaa355ee",
   "metadata": {
    "scrolled": true
   },
   "outputs": [
    {
     "data": {
      "text/plain": [
       "[1, 2, 3, 4, 5]"
      ]
     },
     "execution_count": 82,
     "metadata": {},
     "output_type": "execute_result"
    }
   ],
   "source": [
    "numbers = [1,2,3,4,5]\n",
    "numbers"
   ]
  },
  {
   "cell_type": "code",
   "execution_count": 83,
   "id": "f5e8c628",
   "metadata": {},
   "outputs": [
    {
     "data": {
      "text/plain": [
       "[1, 2, 4, 5]"
      ]
     },
     "execution_count": 83,
     "metadata": {},
     "output_type": "execute_result"
    }
   ],
   "source": [
    "numbers.pop(2) #리스트 2번째 값 꺼내고 삭제\n",
    "numbers # 3 삭제"
   ]
  },
  {
   "cell_type": "code",
   "execution_count": 84,
   "id": "103c01db",
   "metadata": {},
   "outputs": [
    {
     "data": {
      "text/plain": [
       "[1, 2, 4]"
      ]
     },
     "execution_count": 84,
     "metadata": {},
     "output_type": "execute_result"
    }
   ],
   "source": [
    "p = numbers.pop(3) # 3번째 요소 삭제\n",
    "p\n",
    "\n",
    "numbers # 5삭제"
   ]
  },
  {
   "cell_type": "markdown",
   "id": "42132e91",
   "metadata": {},
   "source": [
    "## 예제 2-19 del 키워드로 리스트 요소 삭제"
   ]
  },
  {
   "cell_type": "code",
   "execution_count": 85,
   "id": "b769646e",
   "metadata": {
    "scrolled": true
   },
   "outputs": [
    {
     "data": {
      "text/plain": [
       "[1, 2, 3, 4, 5]"
      ]
     },
     "execution_count": 85,
     "metadata": {},
     "output_type": "execute_result"
    }
   ],
   "source": [
    "numbers = [1,2,3,4,5]\n",
    "numbers"
   ]
  },
  {
   "cell_type": "code",
   "execution_count": 86,
   "id": "ff0d30c0",
   "metadata": {},
   "outputs": [],
   "source": [
    "del numbers[2] # 리스트의 2번째 요소를 바로 삭제"
   ]
  },
  {
   "cell_type": "code",
   "execution_count": 87,
   "id": "599303ee",
   "metadata": {},
   "outputs": [
    {
     "data": {
      "text/plain": [
       "[1, 2, 4, 5]"
      ]
     },
     "execution_count": 87,
     "metadata": {},
     "output_type": "execute_result"
    }
   ],
   "source": [
    "numbers #del키워드는 pop과 다르게 바로 삭제하므로 데이터를 확인할 필요가 없는경우 del 사용"
   ]
  },
  {
   "cell_type": "markdown",
   "id": "86b24d8e",
   "metadata": {},
   "source": [
    "## 예제 2-20 리스트 요소 개수 구하기(len)"
   ]
  },
  {
   "cell_type": "code",
   "execution_count": 88,
   "id": "d3b6050a",
   "metadata": {},
   "outputs": [
    {
     "data": {
      "text/plain": [
       "[1, 2, 3, 4, 5]"
      ]
     },
     "execution_count": 88,
     "metadata": {},
     "output_type": "execute_result"
    }
   ],
   "source": [
    "numbers = [1,2,3,4,5]\n",
    "numbers"
   ]
  },
  {
   "cell_type": "code",
   "execution_count": 89,
   "id": "429d4518",
   "metadata": {},
   "outputs": [
    {
     "data": {
      "text/plain": [
       "5"
      ]
     },
     "execution_count": 89,
     "metadata": {},
     "output_type": "execute_result"
    }
   ],
   "source": [
    "len(numbers)"
   ]
  },
  {
   "cell_type": "markdown",
   "id": "cf1fad4e",
   "metadata": {},
   "source": [
    "# 튜플\n",
    "#### 리스트와 마찬가지로 데이터를 집합관리 할 수 있지만 \n",
    "#### 한번 생성되면 순서와 값을 수정할 수 없다."
   ]
  },
  {
   "cell_type": "markdown",
   "id": "1b63609c",
   "metadata": {},
   "source": [
    "## 예제 2-21 튜플 정의\n"
   ]
  },
  {
   "cell_type": "code",
   "execution_count": 94,
   "id": "86dcb7b9",
   "metadata": {},
   "outputs": [
    {
     "data": {
      "text/plain": [
       "(1, 2, 3, 4, 5)"
      ]
     },
     "execution_count": 94,
     "metadata": {},
     "output_type": "execute_result"
    }
   ],
   "source": [
    "numbers = (1,2,3,4,5) # 리스트와 다르게 ()소괄호 사용\n",
    "numbers"
   ]
  },
  {
   "cell_type": "code",
   "execution_count": 96,
   "id": "2f788c11",
   "metadata": {},
   "outputs": [
    {
     "data": {
      "text/plain": [
       "(1.0, 2.0, 3.0, 4, 5, 'six')"
      ]
     },
     "execution_count": 96,
     "metadata": {},
     "output_type": "execute_result"
    }
   ],
   "source": [
    "real_numbers = (1.0,2.0,3.0,4,5,'six') # 정수형 ,문자열 등 다양하게 입력 가능\n",
    "real_numbers"
   ]
  },
  {
   "cell_type": "code",
   "execution_count": 97,
   "id": "c06058ec",
   "metadata": {},
   "outputs": [
    {
     "data": {
      "text/plain": [
       "tuple"
      ]
     },
     "execution_count": 97,
     "metadata": {},
     "output_type": "execute_result"
    }
   ],
   "source": [
    "type(real_numbers)"
   ]
  },
  {
   "cell_type": "markdown",
   "id": "51e44563",
   "metadata": {},
   "source": [
    "## 예제 2-22 튜플 인덱싱 및 슬라이싱"
   ]
  },
  {
   "cell_type": "code",
   "execution_count": 98,
   "id": "f773b4f8",
   "metadata": {},
   "outputs": [
    {
     "data": {
      "text/plain": [
       "(1, 2, 3, 4, 5)"
      ]
     },
     "execution_count": 98,
     "metadata": {},
     "output_type": "execute_result"
    }
   ],
   "source": [
    "numbers = (1,2,3,4,5)\n",
    "numbers"
   ]
  },
  {
   "cell_type": "code",
   "execution_count": 104,
   "id": "2612ad02",
   "metadata": {},
   "outputs": [
    {
     "data": {
      "text/plain": [
       "2"
      ]
     },
     "execution_count": 104,
     "metadata": {},
     "output_type": "execute_result"
    }
   ],
   "source": [
    "numbers[1]"
   ]
  },
  {
   "cell_type": "code",
   "execution_count": 103,
   "id": "06eb3baa",
   "metadata": {},
   "outputs": [
    {
     "data": {
      "text/plain": [
       "5"
      ]
     },
     "execution_count": 103,
     "metadata": {},
     "output_type": "execute_result"
    }
   ],
   "source": [
    "numbers[-1] # 뒤에서 1번째"
   ]
  },
  {
   "cell_type": "code",
   "execution_count": 102,
   "id": "903a2fd4",
   "metadata": {},
   "outputs": [
    {
     "data": {
      "text/plain": [
       "(3, 4, 5)"
      ]
     },
     "execution_count": 102,
     "metadata": {},
     "output_type": "execute_result"
    }
   ],
   "source": [
    "numbers[2:] #2번 부터"
   ]
  },
  {
   "cell_type": "code",
   "execution_count": 101,
   "id": "411acc5a",
   "metadata": {},
   "outputs": [
    {
     "data": {
      "text/plain": [
       "(4, 5)"
      ]
     },
     "execution_count": 101,
     "metadata": {},
     "output_type": "execute_result"
    }
   ],
   "source": [
    "numbers[-2:] # 뒤에서 2번부터"
   ]
  },
  {
   "cell_type": "code",
   "execution_count": 100,
   "id": "ff349703",
   "metadata": {},
   "outputs": [
    {
     "data": {
      "text/plain": [
       "(2, 3)"
      ]
     },
     "execution_count": 100,
     "metadata": {},
     "output_type": "execute_result"
    }
   ],
   "source": [
    "numbers[1:-2] # 1번에서 뒤에서 2번째 까지"
   ]
  },
  {
   "cell_type": "markdown",
   "id": "8233fd68",
   "metadata": {},
   "source": [
    "## 예제 2-23 튜플 요소 수정"
   ]
  },
  {
   "cell_type": "code",
   "execution_count": null,
   "id": "a590ea52",
   "metadata": {},
   "outputs": [],
   "source": []
  },
  {
   "cell_type": "markdown",
   "id": "442c972d",
   "metadata": {},
   "source": [
    "## 예제 2-21 튜플 정의"
   ]
  },
  {
   "cell_type": "code",
   "execution_count": 105,
   "id": "7516fdd5",
   "metadata": {},
   "outputs": [
    {
     "data": {
      "text/plain": [
       "(1, 2, 3, 4, 5)"
      ]
     },
     "execution_count": 105,
     "metadata": {},
     "output_type": "execute_result"
    }
   ],
   "source": [
    "numbers = (1,2,3,4,5)\n",
    "numbers"
   ]
  },
  {
   "cell_type": "code",
   "execution_count": 106,
   "id": "29bfda26",
   "metadata": {},
   "outputs": [
    {
     "ename": "TypeError",
     "evalue": "'tuple' object does not support item assignment",
     "output_type": "error",
     "traceback": [
      "\u001b[1;31m---------------------------------------------------------------------------\u001b[0m",
      "\u001b[1;31mTypeError\u001b[0m                                 Traceback (most recent call last)",
      "Cell \u001b[1;32mIn[106], line 1\u001b[0m\n\u001b[1;32m----> 1\u001b[0m numbers[\u001b[38;5;241m0\u001b[39m] \u001b[38;5;241m=\u001b[39m \u001b[38;5;241m5\u001b[39m\n",
      "\u001b[1;31mTypeError\u001b[0m: 'tuple' object does not support item assignment"
     ]
    }
   ],
   "source": [
    "numbers[0] = 5# 수정 불가능 이슈 발생"
   ]
  },
  {
   "cell_type": "markdown",
   "id": "99c287d4",
   "metadata": {},
   "source": [
    "## 예제 2-24 튜블 덧셈 연산(1)"
   ]
  },
  {
   "cell_type": "code",
   "execution_count": 107,
   "id": "fc5749d5",
   "metadata": {},
   "outputs": [],
   "source": [
    "numbers = (1,2,3,4,5)"
   ]
  },
  {
   "cell_type": "code",
   "execution_count": 109,
   "id": "72ca5928",
   "metadata": {},
   "outputs": [
    {
     "data": {
      "text/plain": [
       "(1, 2, 3, 4, 5, 6, 7)"
      ]
     },
     "execution_count": 109,
     "metadata": {},
     "output_type": "execute_result"
    }
   ],
   "source": [
    "new_numbers = numbers + (6, 7) # 튜플 + 튜플\n",
    "new_numbers"
   ]
  },
  {
   "cell_type": "code",
   "execution_count": 110,
   "id": "044bd007",
   "metadata": {},
   "outputs": [
    {
     "data": {
      "text/plain": [
       "(1, 2, 3, 4, 5)"
      ]
     },
     "execution_count": 110,
     "metadata": {},
     "output_type": "execute_result"
    }
   ],
   "source": [
    "numbers # numbers의 값은 그대로"
   ]
  },
  {
   "cell_type": "markdown",
   "id": "8ea28ccc",
   "metadata": {},
   "source": [
    "## 예제 2-25 튜블 덧셈 연산(2)"
   ]
  },
  {
   "cell_type": "code",
   "execution_count": 111,
   "id": "7c12183e",
   "metadata": {},
   "outputs": [
    {
     "ename": "TypeError",
     "evalue": "can only concatenate tuple (not \"int\") to tuple",
     "output_type": "error",
     "traceback": [
      "\u001b[1;31m---------------------------------------------------------------------------\u001b[0m",
      "\u001b[1;31mTypeError\u001b[0m                                 Traceback (most recent call last)",
      "Cell \u001b[1;32mIn[111], line 1\u001b[0m\n\u001b[1;32m----> 1\u001b[0m \u001b[43mnumbers\u001b[49m\u001b[43m \u001b[49m\u001b[38;5;241;43m+\u001b[39;49m\u001b[43m \u001b[49m\u001b[43m(\u001b[49m\u001b[38;5;241;43m1\u001b[39;49m\u001b[43m)\u001b[49m\n",
      "\u001b[1;31mTypeError\u001b[0m: can only concatenate tuple (not \"int\") to tuple"
     ]
    }
   ],
   "source": [
    "numbers + (1) # 단순 소괄호 사용지 구별할 수 없어 튜블 요소임을 쉼표(,) 알려주어야 한다."
   ]
  },
  {
   "cell_type": "markdown",
   "id": "c196f683",
   "metadata": {},
   "source": [
    "## 예제 2-26 튜블 덧셈 연산(3)"
   ]
  },
  {
   "cell_type": "code",
   "execution_count": 112,
   "id": "46ffc5d6",
   "metadata": {},
   "outputs": [
    {
     "data": {
      "text/plain": [
       "(1, 2, 3, 4, 5, 1)"
      ]
     },
     "execution_count": 112,
     "metadata": {},
     "output_type": "execute_result"
    }
   ],
   "source": [
    "numbers + (1, ) #append처럼  뒤에 1 추가"
   ]
  },
  {
   "cell_type": "markdown",
   "id": "27acd175",
   "metadata": {},
   "source": [
    "# 딕셔너리\n",
    "#### 1. 리스트와 튜플이 인덱싱을 기반으로 하는 순서가 있는 배열의 자료형이라면\n",
    "#### 2. 딕셔너리는 key와 value를 한 쌍으로 가지는 해시 형태의 자료형이다\n",
    "#### 3. 딕셔너리는 순차적으로 데이터를 검색하지 않는다."
   ]
  },
  {
   "cell_type": "markdown",
   "id": "231f50be",
   "metadata": {},
   "source": [
    "## 예제 2-27 딕셔너리 기본"
   ]
  },
  {
   "cell_type": "code",
   "execution_count": 113,
   "id": "aff13a12",
   "metadata": {},
   "outputs": [
    {
     "data": {
      "text/plain": [
       "{'name': '홍길동', 'age': '홍길동', 'email': '홍길동'}"
      ]
     },
     "execution_count": 113,
     "metadata": {},
     "output_type": "execute_result"
    }
   ],
   "source": [
    "user1 = {'name': '홍길동','age': '홍길동','email': '홍길동',}\n",
    "user1"
   ]
  },
  {
   "cell_type": "code",
   "execution_count": 114,
   "id": "627048bf",
   "metadata": {},
   "outputs": [
    {
     "data": {
      "text/plain": [
       "dict"
      ]
     },
     "execution_count": 114,
     "metadata": {},
     "output_type": "execute_result"
    }
   ],
   "source": [
    "type(user1)"
   ]
  },
  {
   "attachments": {
    "image.png": {
     "image/png": "[encoded data removed]"
    }
   },
   "cell_type": "markdown",
   "id": "d87ab0f1",
   "metadata": {},
   "source": [
    "![image.png](attachment:image.png)"
   ]
  },
  {
   "cell_type": "markdown",
   "id": "87c8bd3e",
   "metadata": {},
   "source": [
    "## 예제 2-28 딕셔너리의 키가 문자열"
   ]
  },
  {
   "cell_type": "code",
   "execution_count": 115,
   "id": "002b6a7d",
   "metadata": {
    "scrolled": true
   },
   "outputs": [
    {
     "data": {
      "text/plain": [
       "[100, 'hi', 4.5]"
      ]
     },
     "execution_count": 115,
     "metadata": {},
     "output_type": "execute_result"
    }
   ],
   "source": [
    "dict1 = {'Kei' : [100,'hi',4.5]}\n",
    "dict1['Kei']"
   ]
  },
  {
   "cell_type": "code",
   "execution_count": 116,
   "id": "61dc6c51",
   "metadata": {},
   "outputs": [
    {
     "data": {
      "text/plain": [
       "'hi'"
      ]
     },
     "execution_count": 116,
     "metadata": {},
     "output_type": "execute_result"
    }
   ],
   "source": [
    "dict1['Kei'][1] # KEY가 'Kei'인 value의 1번째 요소 확인"
   ]
  },
  {
   "cell_type": "markdown",
   "id": "8e08cb47",
   "metadata": {},
   "source": [
    "## 예제 2-29 딕셔너리 키가 숫자"
   ]
  },
  {
   "cell_type": "code",
   "execution_count": 117,
   "id": "785071d2",
   "metadata": {},
   "outputs": [
    {
     "data": {
      "text/plain": [
       "'ten'"
      ]
     },
     "execution_count": 117,
     "metadata": {},
     "output_type": "execute_result"
    }
   ],
   "source": [
    "dict2 = {10 : 'ten'}\n",
    "dict2[10] # key가 10인 value를 확인"
   ]
  },
  {
   "cell_type": "markdown",
   "id": "1afcdd30",
   "metadata": {},
   "source": [
    "## 예제 2-30 딕셔너리 데이터 쌍 추가(1)"
   ]
  },
  {
   "cell_type": "code",
   "execution_count": 119,
   "id": "d3ae97c9",
   "metadata": {},
   "outputs": [
    {
     "data": {
      "text/plain": [
       "{'a': 'A', 'b': 'B'}"
      ]
     },
     "execution_count": 119,
     "metadata": {},
     "output_type": "execute_result"
    }
   ],
   "source": [
    "dict3 = { } # 빈 딕셔너리 생성\n",
    "dict3['a'] = 'A'# key사 a 인 value에 'A'를 저장\n",
    "dict3['b'] = 'B'# key사 a 인 value에 'A'를 저장\n",
    "dict3"
   ]
  },
  {
   "cell_type": "markdown",
   "id": "c1def5b9",
   "metadata": {},
   "source": [
    "## 예제 2-31 딕셔너리 데이터 쌍 추가(2)"
   ]
  },
  {
   "cell_type": "code",
   "execution_count": 121,
   "id": "d6cc3518",
   "metadata": {},
   "outputs": [
    {
     "data": {
      "text/plain": [
       "{'a': 'A', 'b': 'B', 3: [1, 2, 3]}"
      ]
     },
     "execution_count": 121,
     "metadata": {},
     "output_type": "execute_result"
    }
   ],
   "source": [
    "dict3[3] = [1,2,3]# key가 3인 value에 리스트 저장\n",
    "dict3"
   ]
  },
  {
   "cell_type": "code",
   "execution_count": 123,
   "id": "ca32a3db",
   "metadata": {},
   "outputs": [
    {
     "data": {
      "text/plain": [
       "{'a': 'A', 'b': 'B', 3: [1, 2, 3], 4: {'name': 'Kei', 'age': 35}}"
      ]
     },
     "execution_count": 123,
     "metadata": {},
     "output_type": "execute_result"
    }
   ],
   "source": [
    "dict3[4] = {'name' : 'Kei','age' : 35}# key가 4인 value에 딕셔너리 저장\n",
    "dict3"
   ]
  },
  {
   "cell_type": "markdown",
   "id": "fbb45604",
   "metadata": {},
   "source": [
    "## 예제 2-32 딕셔너리 데이터 쌍 삭제"
   ]
  },
  {
   "cell_type": "code",
   "execution_count": 124,
   "id": "6b3fa84e",
   "metadata": {},
   "outputs": [
    {
     "data": {
      "text/plain": [
       "{'b': 'B', 3: [1, 2, 3], 4: {'name': 'Kei', 'age': 35}}"
      ]
     },
     "execution_count": 124,
     "metadata": {},
     "output_type": "execute_result"
    }
   ],
   "source": [
    "del dict3['a'] # key가 'a'인 데이터 쌍 삭제\n",
    "dict3"
   ]
  },
  {
   "cell_type": "code",
   "execution_count": 125,
   "id": "cd66c965",
   "metadata": {},
   "outputs": [
    {
     "data": {
      "text/plain": [
       "{'b': 'B', 4: {'name': 'Kei', 'age': 35}}"
      ]
     },
     "execution_count": 125,
     "metadata": {},
     "output_type": "execute_result"
    }
   ],
   "source": [
    "del dict3[3] # key가 3인 데이터 쌍 삭제\n",
    "dict3"
   ]
  },
  {
   "cell_type": "code",
   "execution_count": 127,
   "id": "e7609b21",
   "metadata": {},
   "outputs": [
    {
     "data": {
      "text/plain": [
       "{}"
      ]
     },
     "execution_count": 127,
     "metadata": {},
     "output_type": "execute_result"
    }
   ],
   "source": [
    "dict3.clear()# dict3의 모든 딕셔너리 삭제\n",
    "dict3"
   ]
  },
  {
   "cell_type": "markdown",
   "id": "15817526",
   "metadata": {},
   "source": [
    "# 불리언"
   ]
  },
  {
   "cell_type": "markdown",
   "id": "b03db882",
   "metadata": {},
   "source": [
    "## 예제 2-33 불리언 자료형 사용"
   ]
  },
  {
   "cell_type": "code",
   "execution_count": 90,
   "id": "454a3dc4",
   "metadata": {},
   "outputs": [
    {
     "data": {
      "text/plain": [
       "bool"
      ]
     },
     "execution_count": 90,
     "metadata": {},
     "output_type": "execute_result"
    }
   ],
   "source": [
    "check = True # True는 무조건 대문자!1\n",
    "uncheck = False # False도 무조건 대문자!1\n",
    "\n",
    "\n"
   ]
  },
  {
   "cell_type": "code",
   "execution_count": 91,
   "id": "4b47c86f",
   "metadata": {},
   "outputs": [
    {
     "data": {
      "text/plain": [
       "bool"
      ]
     },
     "execution_count": 91,
     "metadata": {},
     "output_type": "execute_result"
    }
   ],
   "source": [
    "type(check)"
   ]
  },
  {
   "cell_type": "code",
   "execution_count": 93,
   "id": "4f5b499f",
   "metadata": {},
   "outputs": [
    {
     "data": {
      "text/plain": [
       "False"
      ]
     },
     "execution_count": 93,
     "metadata": {},
     "output_type": "execute_result"
    }
   ],
   "source": [
    "uncheck "
   ]
  }
 ],
 "metadata": {
  "kernelspec": {
   "display_name": "Python 3 (ipykernel)",
   "language": "python",
   "name": "python3"
  },
  "language_info": {
   "codemirror_mode": {
    "name": "ipython",
    "version": 3
   },
   "file_extension": ".py",
   "mimetype": "text/x-python",
   "name": "python",
   "nbconvert_exporter": "python",
   "pygments_lexer": "ipython3",
   "version": "3.10.11"
  }
 },
 "nbformat": 4,
 "nbformat_minor": 5
}
