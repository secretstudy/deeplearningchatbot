{
 "cells": [
  {
   "cell_type": "markdown",
   "id": "ec548aed",
   "metadata": {},
   "source": [
    "# Series 객체 사용"
   ]
  },
  {
   "cell_type": "code",
   "execution_count": 3,
   "id": "b7174145",
   "metadata": {},
   "outputs": [
    {
     "name": "stdout",
     "output_type": "stream",
     "text": [
      "0    100\n",
      "1    200\n",
      "2    300\n",
      "dtype: int64\n",
      "국어    90\n",
      "수학    80\n",
      "영어    99\n",
      "dtype: int64\n",
      "Index(['국어', '수학', '영어'], dtype='object')\n",
      "[90 80 99]\n",
      "수학 80\n"
     ]
    }
   ],
   "source": [
    "import pandas as pd\n",
    "\n",
    "numbers = pd.Series([100,200,300])\n",
    "\n",
    "print(numbers)\n",
    "\n",
    "scores = pd.Series([90,80,99], index=['국어','수학','영어'])\n",
    "\n",
    "print(scores)\n",
    "\n",
    "print(scores.index)\n",
    "\n",
    "print(scores.values)\n",
    "\n",
    "print(scores.index[1], scores.values[1])\n",
    "\n"
   ]
  },
  {
   "cell_type": "markdown",
   "id": "69debd8d",
   "metadata": {},
   "source": [
    "# DataFrame 객체 사용"
   ]
  },
  {
   "cell_type": "code",
   "execution_count": 4,
   "id": "bc5cb5cb",
   "metadata": {},
   "outputs": [
    {
     "name": "stdout",
     "output_type": "stream",
     "text": [
      "       Spring  summer  Fail  Winter\n",
      "Seoul     3.3    34.5  14.2     -10\n",
      "Pusan     7.1    32.1  10.7       2\n",
      "==================================================\n",
      "Index(['Seoul', 'Pusan'], dtype='object')\n",
      "Index(['Spring', 'summer', 'Fail', 'Winter'], dtype='object')\n",
      "[[  3.3  34.5  14.2 -10. ]\n",
      " [  7.1  32.1  10.7   2. ]]\n",
      "==================================================\n",
      "3.3\n",
      "==================================================\n",
      "       Spring  summer  Fail  Winter\n",
      "Seoul     3.3    34.5  14.2     -10\n",
      "Pusan     7.1    32.1  10.7       2\n",
      "==================================================\n",
      "       Spring  summer  Fail  Winter\n",
      "Pusan     7.1    32.1  10.7       2\n"
     ]
    }
   ],
   "source": [
    "import pandas as pd\n",
    "\n",
    "\n",
    "temperatures = [[3.3, 34.5, 14.2, -10], [7.1,32.1,10.7,2]]\n",
    "seasons = ['Spring','summer','Fail','Winter']\n",
    "regions = ['Seoul','Pusan']\n",
    "\n",
    "data = pd.DataFrame(temperatures, index=regions, columns=seasons)\n",
    "\n",
    "print(data)\n",
    "print(\"=\" * 50)\n",
    "print(data.index)\n",
    "print(data.columns)\n",
    "print(data.values)\n",
    "print(\"=\" * 50)\n",
    "\n",
    "print(data['Spring']['Seoul'])\n",
    "print(\"=\" * 50)\n",
    "\n",
    "print(data.head(2))\n",
    "print(\"=\" * 50)\n",
    "\n",
    "print(data.tail(1))"
   ]
  },
  {
   "cell_type": "code",
   "execution_count": 5,
   "id": "524a6c91",
   "metadata": {},
   "outputs": [
    {
     "name": "stdout",
     "output_type": "stream",
     "text": [
      "     이름  나이       전화번호\n",
      "0   Kei  35  1234-1234\n",
      "1  Hong  26  4320-1420\n",
      "2   Kim  41  1234-5678\n",
      "3  Choi  38  4023-3411\n",
      "4    Go  27  1469-4023\n"
     ]
    }
   ],
   "source": [
    "import pandas as pd\n",
    "\n",
    "\n",
    "user_list = pd.read_excel('sample.xlsx', sheet_name='Sheet1')\n",
    "print(user_list)"
   ]
  },
  {
   "cell_type": "code",
   "execution_count": null,
   "id": "e73f37c6",
   "metadata": {},
   "outputs": [],
   "source": []
  }
 ],
 "metadata": {
  "kernelspec": {
   "display_name": "Python 3 (ipykernel)",
   "language": "python",
   "name": "python3"
  },
  "language_info": {
   "codemirror_mode": {
    "name": "ipython",
    "version": 3
   },
   "file_extension": ".py",
   "mimetype": "text/x-python",
   "name": "python",
   "nbconvert_exporter": "python",
   "pygments_lexer": "ipython3",
   "version": "3.11.3"
  }
 },
 "nbformat": 4,
 "nbformat_minor": 5
}
