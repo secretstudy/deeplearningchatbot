{
 "cells": [
  {
   "cell_type": "code",
   "execution_count": 1,
   "id": "555bf251",
   "metadata": {},
   "outputs": [],
   "source": [
    "def add(a,b): return a+b\n",
    "\n",
    "def sub(a,b): return a-b\n",
    "\n",
    "def mul(a,b): return a*b\n",
    "\n",
    "def div(a,b): return a*b"
   ]
  },
  {
   "cell_type": "code",
   "execution_count": null,
   "id": "fabb6a88",
   "metadata": {},
   "outputs": [],
   "source": []
  }
 ],
 "metadata": {
  "kernelspec": {
   "display_name": "Python 3 (ipykernel)",
   "language": "python",
   "name": "python3"
  },
  "language_info": {
   "codemirror_mode": {
    "name": "ipython",
    "version": 3
   },
   "file_extension": ".py",
   "mimetype": "text/x-python",
   "name": "python",
   "nbconvert_exporter": "python",
   "pygments_lexer": "ipython3",
   "version": "3.11.3"
  }
 },
 "nbformat": 4,
 "nbformat_minor": 5
}
