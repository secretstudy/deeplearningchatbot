{
 "cells": [
  {
   "cell_type": "markdown",
   "id": "a405eeeb",
   "metadata": {},
   "source": [
    "# 엑셀 파일의 특정 셀 내용 읽어오기"
   ]
  },
  {
   "cell_type": "code",
   "execution_count": 3,
   "id": "f79da7b0",
   "metadata": {},
   "outputs": [
    {
     "name": "stdout",
     "output_type": "stream",
     "text": [
      "3 6\n",
      "이름\n",
      "Kei\n"
     ]
    }
   ],
   "source": [
    "import openpyxl\n",
    "\n",
    "wb = openpyxl.load_workbook('./sample.xlsx')\n",
    "sheet = wb['Sheet1']#워크시트 인스턴스 객체 가져오기\n",
    "print(sheet.max_column, sheet.max_row)\n",
    "print(sheet.cell(row=1, column=1).value)\n",
    "print(sheet.cell(row=2, column=1).value)\n",
    "wb.close()"
   ]
  },
  {
   "cell_type": "markdown",
   "id": "df0bbac7",
   "metadata": {},
   "source": [
    "# 엑셀 파일의 전체 내용 읽어오기"
   ]
  },
  {
   "cell_type": "code",
   "execution_count": 4,
   "id": "ead95441",
   "metadata": {},
   "outputs": [
    {
     "name": "stdout",
     "output_type": "stream",
     "text": [
      "Kei\n",
      "35\n",
      "1234-1234\n",
      "----------\n",
      "Hong\n",
      "26\n",
      "4320-1420\n",
      "----------\n",
      "Kim\n",
      "41\n",
      "1234-5678\n",
      "----------\n",
      "Choi\n",
      "38\n",
      "4023-3411\n",
      "----------\n",
      "Go\n",
      "27\n",
      "1469-4023\n",
      "----------\n"
     ]
    }
   ],
   "source": [
    "import openpyxl\n",
    "\n",
    "wb = openpyxl.load_workbook('./sample.xlsx')\n",
    "sheet = wb['Sheet1']#워크시트 인스턴스 객체 가져오기\n",
    "\n",
    "for row in sheet.iter_rows(min_row = 2): # 시트내의 모든 row 데이터를 탐색\n",
    "    for cell in row:# 열(column) 단위 데이터를 출력하기 위해 for 시작\n",
    "        print(cell.value)# 셀에 저장되어 있는 데이터 출력\n",
    "    print('-' * 10)# 행이 끝날경우 구분선 출력\n",
    "wb.close()"
   ]
  },
  {
   "cell_type": "code",
   "execution_count": 5,
   "id": "9580140d",
   "metadata": {},
   "outputs": [
    {
     "name": "stdout",
     "output_type": "stream",
     "text": [
      "Kei\n",
      "35\n",
      "1234-1234\n",
      "----------\n",
      "Hong\n",
      "26\n",
      "4320-1420\n",
      "----------\n"
     ]
    }
   ],
   "source": [
    "import openpyxl\n",
    "\n",
    "wb = openpyxl.load_workbook('./sample.xlsx')\n",
    "sheet = wb['Sheet1']#워크시트 인스턴스 객체 가져오기\n",
    "\n",
    "cells = sheet['A2':'C3']\n",
    "for row in cells: #정해진 범위만큼 가져온다\n",
    "    for cell in row: # 지정된 범위만큼 row 데이터 출력\n",
    "        print(cell.value)# 셀에 저장되어 있는 데이터 출력\n",
    "    print('-' * 10)# 행이 끝날경우 구분선 출력\n",
    "wb.close()"
   ]
  },
  {
   "cell_type": "markdown",
   "id": "765cf410",
   "metadata": {},
   "source": [
    "# OpenPyXL로 엑셀 파일 쓰기"
   ]
  },
  {
   "cell_type": "code",
   "execution_count": 6,
   "id": "79aed27a",
   "metadata": {},
   "outputs": [],
   "source": [
    "import openpyxl\n",
    "\n",
    "wb = openpyxl.Workbook()\n",
    "sheet = wb.active\n",
    "sheet.title = '회원정보'\n",
    "\n",
    "header_titles = ['이름','전화번호']\n",
    "for idx, title in enumerate(header_titles):\n",
    "    sheet.cell(row =1, column=idx+1,value=title)\n",
    "    \n",
    "members = [('kei','010-1234-1234'),('hong','010-4321-4321')]\n",
    "row_num = 2 #1번째 row는 타이틀 위치\n",
    "for r,member in enumerate(members): # 회원정보 목록 탐색\n",
    "    for c,v in enumerate(member): # 이름,전화번호 컬럼 탐색\n",
    "        sheet.cell(row=row_num + r, column=c+1,value=v)\n",
    "\n",
    "wb.save('./members.xlsx')\n",
    "wb.close()"
   ]
  },
  {
   "attachments": {
    "image.png": {
     "image/png": "[encoded data removed]"
    }
   },
   "cell_type": "markdown",
   "id": "46b1e826",
   "metadata": {},
   "source": [
    "![image.png](attachment:image.png)"
   ]
  },
  {
   "cell_type": "code",
   "execution_count": null,
   "id": "f19d81d6",
   "metadata": {},
   "outputs": [],
   "source": []
  }
 ],
 "metadata": {
  "kernelspec": {
   "display_name": "Python 3 (ipykernel)",
   "language": "python",
   "name": "python3"
  },
  "language_info": {
   "codemirror_mode": {
    "name": "ipython",
    "version": 3
   },
   "file_extension": ".py",
   "mimetype": "text/x-python",
   "name": "python",
   "nbconvert_exporter": "python",
   "pygments_lexer": "ipython3",
   "version": "3.11.3"
  }
 },
 "nbformat": 4,
 "nbformat_minor": 5
}
