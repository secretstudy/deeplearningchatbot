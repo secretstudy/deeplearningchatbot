{
 "cells": [
  {
   "cell_type": "code",
   "execution_count": 4,
   "id": "3c5f8289",
   "metadata": {},
   "outputs": [
    {
     "name": "stdout",
     "output_type": "stream",
     "text": [
      "DB 연결 성공!!\n",
      "[{'id': 2, 'name': 'Kei', 'age': 36, 'address': 'PUSAN'}, {'id': 3, 'name': 'Tony', 'age': 34, 'address': 'PUSAN'}, {'id': 4, 'name': 'Jaeyoo', 'age': 39, 'address': 'GWANGJU'}, {'id': 7, 'name': 'Kei', 'age': 36, 'address': 'PUSAN'}, {'id': 8, 'name': 'Tony', 'age': 34, 'address': 'PUSAN'}, {'id': 9, 'name': 'Jaeyoo', 'age': 39, 'address': 'GWANGJU'}]\n",
      "Grace 28\n",
      "module 'numpy' has no attribute 'DataFrame'\n",
      "DB 연결 종료\n"
     ]
    }
   ],
   "source": [
    "import pymysql\n",
    "import numpy as pd\n",
    "db = None\n",
    "try:\n",
    "    # DB호스트 정보에 맞게 입력해주세요\n",
    "    db = pymysql.connect(\n",
    "        host = 'localhost',\n",
    "        user = 'root',\n",
    "        passwd = 'root',\n",
    "        db = 'chatbot',\n",
    "        charset='utf8',    \n",
    "    )\n",
    "    print(\"DB 연결 성공!!\")\n",
    "    \n",
    "    # 데이터 정의\n",
    "    students = [\n",
    "        {'name': 'Kei', 'age': 36, 'address' : 'PUSAN'},\n",
    "        {'name': 'Tony', 'age': 34, 'address': 'PUSAN'},\n",
    "        {'name': 'Jaeyoo', 'age': 39, 'address': 'GWANGJU'},\n",
    "        {'name': 'Grace', 'age': 28, 'address': 'SEOUL'},\n",
    "        {'name': 'Jenny', 'age': 27, 'address': 'SEOUL'},\n",
    "    ]\n",
    "\n",
    "    # 데이터 db에 추가\n",
    "    for s in students:\n",
    "        with db.cursor() as cursor:\n",
    "            sql = '''\n",
    "                    insert tb_student(name, age, address) values(\"%s\",%d,\"%s\")\n",
    "                    ''' % (s['name'], s['age'], s['address'])\n",
    "            cursor.execute(sql)\n",
    "    db.commit() # 커밋\n",
    "\n",
    "    # 30대 학생만 조회\n",
    "    cond_age = 30\n",
    "    with db.cursor(pymysql.cursors.DictCursor) as cursor:\n",
    "        sql = ''' \n",
    "        select * from tb_student where age > %d\n",
    "        ''' % cond_age\n",
    "        cursor.execute(sql)\n",
    "        results = cursor.fetchall()\n",
    "    print(results)\n",
    "\n",
    "    # 이름 검색\n",
    "    cond_name = 'Grace'\n",
    "    with db.cursor(pymysql.cursors.DictCursor) as cursor:\n",
    "        sql = ''' \n",
    "        select * from tb_student where name=\"%s\"\n",
    "        ''' % cond_name\n",
    "        cursor.execute(sql)\n",
    "        result = cursor.fetchone()\n",
    "    print(result['name'], result['age'])\n",
    "\n",
    "    # pandas 데이터프레임으로 표현\n",
    "    df = pd.DataFrame(results)\n",
    "    print(df)\n",
    "except Exception as e:\n",
    "    print(e)\n",
    "    \n",
    "finally:\n",
    "    if db is not None: \n",
    "        db.close()\n",
    "        print(\"DB 연결 종료\")"
   ]
  },
  {
   "cell_type": "code",
   "execution_count": null,
   "id": "53f23486",
   "metadata": {},
   "outputs": [],
   "source": []
  }
 ],
 "metadata": {
  "kernelspec": {
   "display_name": "Python 3 (ipykernel)",
   "language": "python",
   "name": "python3"
  },
  "language_info": {
   "codemirror_mode": {
    "name": "ipython",
    "version": 3
   },
   "file_extension": ".py",
   "mimetype": "text/x-python",
   "name": "python",
   "nbconvert_exporter": "python",
   "pygments_lexer": "ipython3",
   "version": "3.10.9"
  }
 },
 "nbformat": 4,
 "nbformat_minor": 5
}
