{
 "cells": [
  {
   "cell_type": "code",
   "execution_count": 3,
   "id": "06ef737c",
   "metadata": {},
   "outputs": [
    {
     "name": "stdout",
     "output_type": "stream",
     "text": [
      "DB 연결 성공!!\n",
      "DB 연결 종료\n"
     ]
    }
   ],
   "source": [
    "import pymysql\n",
    "\n",
    "db = None\n",
    "try:\n",
    "    # DB호스트 정보에 맞게 입력해주세요\n",
    "    db = pymysql.connect(\n",
    "        host = 'localhost',\n",
    "        user = 'root',\n",
    "        passwd = 'root',\n",
    "        db = 'chatbot',\n",
    "        charset='utf8',    \n",
    "    )\n",
    "    print(\"DB 연결 성공!!\")    \n",
    "    sql = ''' \n",
    "    CREATE TABLE tb_student(\n",
    "        id int primary key auto_increment not null,\n",
    "        name varchar(32),\n",
    "        age int,\n",
    "        address varchar(32)\n",
    "    )\n",
    "    '''\n",
    "    \n",
    "    #테이블 생성 \n",
    "    #연결한 DB와 상호작용 할려면 cursor 객체가 필요하다.\n",
    "    #execute() 함수로 SQL 구문을 실행한다.\n",
    "    with db.cursor() as cursor:\n",
    "        cursor.execute(sql)\n",
    "        \n",
    "except Exception as e:\n",
    "    print(e)\n",
    "finally:\n",
    "    if db is not None: \n",
    "        db.close()\n",
    "        print(\"DB 연결 종료\")"
   ]
  },
  {
   "cell_type": "code",
   "execution_count": null,
   "id": "99a4d8b9",
   "metadata": {},
   "outputs": [],
   "source": []
  }
 ],
 "metadata": {
  "kernelspec": {
   "display_name": "Python 3 (ipykernel)",
   "language": "python",
   "name": "python3"
  },
  "language_info": {
   "codemirror_mode": {
    "name": "ipython",
    "version": 3
   },
   "file_extension": ".py",
   "mimetype": "text/x-python",
   "name": "python",
   "nbconvert_exporter": "python",
   "pygments_lexer": "ipython3",
   "version": "3.10.9"
  }
 },
 "nbformat": 4,
 "nbformat_minor": 5
}
