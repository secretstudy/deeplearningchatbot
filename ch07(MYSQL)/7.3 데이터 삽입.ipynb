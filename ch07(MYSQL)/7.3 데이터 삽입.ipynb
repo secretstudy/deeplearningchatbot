{
 "cells": [
  {
   "cell_type": "code",
   "execution_count": 7,
   "id": "b6be3ec8",
   "metadata": {},
   "outputs": [
    {
     "name": "stdout",
     "output_type": "stream",
     "text": [
      "DB 연결 성공!!\n",
      "DB 연결 종료\n"
     ]
    }
   ],
   "source": [
    "import pymysql\n",
    "\n",
    "db = None\n",
    "try:\n",
    "    # DB호스트 정보에 맞게 입력해주세요\n",
    "    db = pymysql.connect(\n",
    "        host = 'localhost',\n",
    "        user = 'root',\n",
    "        passwd = 'root',\n",
    "        db = 'chatbot',\n",
    "        charset='utf8',    \n",
    "    )\n",
    "    print(\"DB 연결 성공!!\")    \n",
    "    \n",
    "    sql = ''' \n",
    "    INSERT INTO tb_student(name,age,address) VALUES('KEI',35,'KOREA')\n",
    "    '''\n",
    "    #데이터 삽입 \n",
    "    with db.cursor() as cursor:\n",
    "        cursor.execute(sql)\n",
    "    db.commit()#commit 함수를 써야 데이터 삽입이 진행된다\n",
    "    \n",
    "except Exception as e:\n",
    "    print(e)\n",
    "    \n",
    "finally:\n",
    "    if db is not None: \n",
    "        db.close()\n",
    "        print(\"DB 연결 종료\")"
   ]
  },
  {
   "cell_type": "code",
   "execution_count": null,
   "id": "0a0ddec6",
   "metadata": {},
   "outputs": [],
   "source": []
  }
 ],
 "metadata": {
  "kernelspec": {
   "display_name": "Python 3 (ipykernel)",
   "language": "python",
   "name": "python3"
  },
  "language_info": {
   "codemirror_mode": {
    "name": "ipython",
    "version": 3
   },
   "file_extension": ".py",
   "mimetype": "text/x-python",
   "name": "python",
   "nbconvert_exporter": "python",
   "pygments_lexer": "ipython3",
   "version": "3.10.9"
  }
 },
 "nbformat": 4,
 "nbformat_minor": 5
}
