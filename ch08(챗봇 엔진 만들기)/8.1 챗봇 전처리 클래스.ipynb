{
 "cells": [
  {
   "cell_type": "code",
   "execution_count": 1,
   "id": "d93f11d5",
   "metadata": {},
   "outputs": [],
   "source": [
    "from konlpy.tag import Komoran\n",
    "\n",
    "class Preprocess:\n",
    "    def __init__(self, userdic=None): # 생성자\n",
    "        # 형태소 분석기 초기화 \n",
    "        #gudxoth dlstmxjstmfmf todtjd \n",
    "        #userdic 인자에는 사용자 정의 사전 파일의 경로를 입력할 수 있음\n",
    "        self.komoran = Komoran(userdic=userdic)\n",
    "        \n",
    "        #제외할 품사 \n",
    "        #어떤 품사를 불용어로 정의할지 클래스 맴버 변수에 정의\n",
    "        # 관계언 제거, 기호 제거, 어미 제거, 접미사 제거\n",
    "        self.exclusion_tags = [\n",
    "            'JKS', 'JKC', 'JKG', 'JKO', 'JKB', 'JKV', 'JKQ',\n",
    "            'JX', 'JC',\n",
    "            'SF', 'SP', 'SS', 'SE', 'SO',\n",
    "            'EP', 'EF', 'EC', 'ETN', 'ETM',\n",
    "            'XSN', 'XSV', 'XSA'\n",
    "        ]\n",
    "        \n",
    "    # 형태소 분석기 pos 태거 \n",
    "    # 클래스 외부에서는 형태소 분석기 객체를 직접 호출할수 없게 한다.\n",
    "    \n",
    "    def pos(self, sentemce):\n",
    "        return self.komoran.pos(sentemce)\n",
    "    \n",
    "    # 불용어 제거후 필요한 품사 정보만 가져오기 \n",
    "    # self.exclusion_tags에 해당하지 않는 품사 정보만 키워드로 저장\n",
    "    def get_keywords(self, pos, without_tag=False):\n",
    "        f = lambda x: x in self.exclusion_tags\n",
    "        word_list = []\n",
    "        for p in pos:            \n",
    "            if f(p[1]) is False:                \n",
    "                word_list.append(p if without_tag is False else p[0])\n",
    "        return word_list"
   ]
  }
 ],
 "metadata": {
  "kernelspec": {
   "display_name": "Python 3 (ipykernel)",
   "language": "python",
   "name": "python3"
  },
  "language_info": {
   "codemirror_mode": {
    "name": "ipython",
    "version": 3
   },
   "file_extension": ".py",
   "mimetype": "text/x-python",
   "name": "python",
   "nbconvert_exporter": "python",
   "pygments_lexer": "ipython3",
   "version": "3.10.9"
  }
 },
 "nbformat": 4,
 "nbformat_minor": 5
}
