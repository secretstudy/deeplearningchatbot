{
 "cells": [
  {
   "cell_type": "code",
   "execution_count": 2,
   "id": "ef6a8ba2",
   "metadata": {},
   "outputs": [],
   "source": [
    "from konlpy.tag import Komoran\n",
    "import pickle\n",
    "            \n",
    "\n",
    "class Preprocess:\n",
    "    def __init__(self, word2index_dic='', userdic=None):\n",
    "        # 단어 인덱스사전 불러오기\n",
    "        if(word2index_dic != ''):\n",
    "            f = open(word2index_dic, \"rb\")\n",
    "            self.word_index = pickle.load(f)\n",
    "            f.close()\n",
    "        else:\n",
    "            self.word_index = None\n",
    "            \n",
    "        self.komoran = Komoran(userdic=userdic)\n",
    "        \n",
    "        #제외할 품사 \n",
    "        #어떤 품사를 불용어로 정의할지 클래스 맴버 변수에 정의\n",
    "        # 관계언 제거, 기호 제거, 어미 제거, 접미사 제거\n",
    "        self.exclusion_tags = [\n",
    "            'JKS', 'JKC', 'JKG', 'JKO', 'JKB', 'JKV', 'JKQ',\n",
    "            'JX', 'JC',\n",
    "            'SF', 'SP', 'SS', 'SE', 'SO',\n",
    "            'EP', 'EF', 'EC', 'ETN', 'ETM',\n",
    "            'XSN', 'XSV', 'XSA'\n",
    "        ]\n",
    "    # 형태소 분석기 POS 태거    \n",
    "    def pos(self, sentemce):\n",
    "        return self.komoran.pos(sentemce)\n",
    "    \n",
    "    \n",
    "    def get_keywords(self, pos, without_tag=False):\n",
    "        f = lambda x: x in self.exclusion_tags\n",
    "        word_list = []\n",
    "        for p in pos:            \n",
    "            if f(p[1]) is False:                \n",
    "                word_list.append(p if without_tag is False else p[0])\n",
    "        return word_list\n",
    "    \n",
    "    def get_wordidx_sequence(self, keywords):\n",
    "        if self.word_index is None:\n",
    "            return []\n",
    "        w2i = []\n",
    "        for word in keywords:\n",
    "            try:\n",
    "                w2i.append(self.word_index[word])\n",
    "            except KeyError:\n",
    "                # 해당 단어가 사전에 없는 경우 OOV 처리\n",
    "                w2i.append(self.word_index['OOV'])\n",
    "        return w2i"
   ]
  },
  {
   "cell_type": "code",
   "execution_count": null,
   "id": "e30f2822",
   "metadata": {},
   "outputs": [],
   "source": []
  }
 ],
 "metadata": {
  "kernelspec": {
   "display_name": "Python 3 (ipykernel)",
   "language": "python",
   "name": "python3"
  },
  "language_info": {
   "codemirror_mode": {
    "name": "ipython",
    "version": 3
   },
   "file_extension": ".py",
   "mimetype": "text/x-python",
   "name": "python",
   "nbconvert_exporter": "python",
   "pygments_lexer": "ipython3",
   "version": "3.10.9"
  }
 },
 "nbformat": 4,
 "nbformat_minor": 5
}
