{
 "cells": [
  {
   "cell_type": "code",
   "execution_count": 3,
   "id": "6460496e",
   "metadata": {},
   "outputs": [
    {
     "name": "stdout",
     "output_type": "stream",
     "text": [
      "(('6월', '뉴턴'), ('뉴턴', '선생님'), ('선생님', '제안'), ('제안', '트리니티'), ('트리니티', '입학'), ('입학',))\n",
      "(('6월', '뉴턴'), ('뉴턴', '선생님'), ('선생님', '제안'), ('제안', '대학교'), ('대학교', '입학'), ('입학',))\n",
      "(('밥', '뉴턴'), ('뉴턴', '선생'), ('선생', '님과 함께'), ('님과 함께',))\n",
      "0.6666666666666666\n",
      "0.0\n"
     ]
    }
   ],
   "source": [
    "from konlpy.tag import Komoran\n",
    "\n",
    "# 어절 단위 n-gram \n",
    "# 어절 단위로 n-gram 토큰을 추출하는 함수\n",
    "#추출하는 토큰들은 튜플 형태로 반환된다.\n",
    "def word_ngram(bow, num_gram):\n",
    "    text = tuple(bow)\n",
    "    ngrams = [text[x:x + num_gram] for x in range(0,len(text))]\n",
    "    return tuple(ngrams)\n",
    " \n",
    "# 유사도 계산 2\n",
    "def similarity(doc1,doc2):\n",
    "    cnt = 0\n",
    "    for token in doc1:\n",
    "        if token in doc2:\n",
    "            cnt = cnt + 1\n",
    "    return cnt/len(doc1)\n",
    "\n",
    "# 문장 선언\n",
    "sentence1 = '6월에 뉴턴은 선생님의 제안으로 트리니티에 입학했다.'\n",
    "sentence2 = '6월에 뉴턴은 선생님의 제안으로 대학교에 입학했다.'\n",
    "sentence3 = '나는 맛있는 밥을 뉴턴 선생님과 함께 먹었다.'\n",
    "\n",
    "# 형태소 분석기에서 명사(단어) 추출\n",
    "# Komoran 형태소 분석기를 이용해 정의된 문장에서 명사를 리스트 형태로 추출합니다.\n",
    "komoran = Komoran()\n",
    "bow1 = komoran.nouns(sentence1)\n",
    "bow2 = komoran.nouns(sentence2)\n",
    "bow3 = komoran.nouns(sentence3)\n",
    "\n",
    "# 단어 m-gram 토큰 추출 \n",
    "# word_ngram 함수를 이용해 명사 리스트의 n-gram 토큰을 추출한다\n",
    "# 인자에 2를 입력했으므로 2-gram 방식으로 추출\n",
    "doc1 = word_ngram(bow1,2) # 2-gram 방식으로 추출\n",
    "doc2 = word_ngram(bow2,2)\n",
    "doc3 = word_ngram(bow3,2)\n",
    "\n",
    "# 추출된 n-gram 토큰 출력\n",
    "print(doc1)\n",
    "print(doc2)\n",
    "print(doc3)\n",
    "\n",
    "# 유사도 계산\n",
    "r1 = similarity(doc1,doc2) # doc1과 doc2를 비교\n",
    "r2 = similarity(doc3,doc1) \n",
    "\n",
    "#계산된 유사도 출력\n",
    "print(r1)\n",
    "print(r2)"
   ]
  },
  {
   "cell_type": "code",
   "execution_count": null,
   "id": "9336da60",
   "metadata": {},
   "outputs": [],
   "source": []
  }
 ],
 "metadata": {
  "kernelspec": {
   "display_name": "Python 3 (ipykernel)",
   "language": "python",
   "name": "python3"
  },
  "language_info": {
   "codemirror_mode": {
    "name": "ipython",
    "version": 3
   },
   "file_extension": ".py",
   "mimetype": "text/x-python",
   "name": "python",
   "nbconvert_exporter": "python",
   "pygments_lexer": "ipython3",
   "version": "3.10.11"
  }
 },
 "nbformat": 4,
 "nbformat_minor": 5
}
