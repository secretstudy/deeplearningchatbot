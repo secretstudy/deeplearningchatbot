{
 "cells": [
  {
   "cell_type": "code",
   "execution_count": 6,
   "id": "9f2d0f6e",
   "metadata": {},
   "outputs": [
    {
     "name": "stdout",
     "output_type": "stream",
     "text": [
      "['오늘', '날씨', '구름']\n",
      "{'오늘': 0, '날씨': 1, '구름': 2}\n",
      "[[1. 0. 0.]\n",
      " [0. 1. 0.]\n",
      " [0. 0. 1.]]\n"
     ]
    }
   ],
   "source": [
    "###### from konlpy.tag import Komoran\n",
    "import numpy as np\n",
    "\n",
    "komoran = Komoran()\n",
    "text = \"오늘 날씨는 구름이 많아요\"\n",
    "\n",
    "# 명사만 추출 1\n",
    "nouns = komoran.nouns(text)\n",
    "print(nouns)\n",
    "\n",
    "#  단어 사전 구축 및 단어별 인덱스 부여 2\n",
    "dics = {}\n",
    "for word in nouns:\n",
    "    if word not in dics.keys():\n",
    "        dics[word] = len(dics)           \n",
    "print(dics)\n",
    "\n",
    "# 원-핫 인코딩\n",
    "nb_classes = len(dics) # 원-핫 벡터 차원의 크기를 결정한다.\n",
    "targets = list(dics.values())#단어별 인덱스값이 필요하기 때문에 딕셔너리의 함수를 이용해 value값만 리스트로 변환\n",
    "one_hot_targets = np.eye(nb_classes)[targets]#원-핫 백터를 만들기 위해서는 넘파이의 eye() 함수를 이용\n",
    "                                            #eye() 함수는 단위행렬을 만들어 줍니다.\n",
    "                                            #eye() 함수의 인자를 크기대로 단위행렬을 반환하며,\n",
    "                                            #eye() 함수뒤에 붙은 [target]를 이용해 생성된 단위행렬의 순서를 \n",
    "                                            #단어 사전의 순서에 맞게 정렬\n",
    "print(one_hot_targets)"
   ]
  },
  {
   "cell_type": "code",
   "execution_count": null,
   "id": "df4d2138",
   "metadata": {},
   "outputs": [],
   "source": []
  }
 ],
 "metadata": {
  "kernelspec": {
   "display_name": "Python 3 (ipykernel)",
   "language": "python",
   "name": "python3"
  },
  "language_info": {
   "codemirror_mode": {
    "name": "ipython",
    "version": 3
   },
   "file_extension": ".py",
   "mimetype": "text/x-python",
   "name": "python",
   "nbconvert_exporter": "python",
   "pygments_lexer": "ipython3",
   "version": "3.10.11"
  }
 },
 "nbformat": 4,
 "nbformat_minor": 5
}
