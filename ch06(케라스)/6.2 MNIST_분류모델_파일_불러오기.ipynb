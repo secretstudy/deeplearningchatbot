{
 "cells": [
  {
   "cell_type": "code",
   "execution_count": 7,
   "metadata": {
    "colab": {
     "base_uri": "https://localhost:8080/",
     "height": 825
    },
    "id": "Ox-aHLhUB9rh",
    "outputId": "8fda2b2c-888a-4a23-ff1f-9f1ff8da3285"
   },
   "outputs": [
    {
     "name": "stdout",
     "output_type": "stream",
     "text": [
      "Model: \"sequential\"\n",
      "_________________________________________________________________\n",
      " Layer (type)                Output Shape              Param #   \n",
      "=================================================================\n",
      " flatten (Flatten)           (None, 784)               0         \n",
      "                                                                 \n",
      " dense (Dense)               (None, 20)                15700     \n",
      "                                                                 \n",
      " dense_1 (Dense)             (None, 20)                420       \n",
      "                                                                 \n",
      " dense_2 (Dense)             (None, 10)                210       \n",
      "                                                                 \n",
      "=================================================================\n",
      "Total params: 16,330\n",
      "Trainable params: 16,330\n",
      "Non-trainable params: 0\n",
      "_________________________________________________________________\n",
      "313/313 - 1s - loss: 0.1819 - accuracy: 0.9478 - 501ms/epoch - 2ms/step\n"
     ]
    },
    {
     "data": {
      "image/png": "[encoded data removed]",
      "text/plain": [
       "<Figure size 640x480 with 1 Axes>"
      ]
     },
     "metadata": {},
     "output_type": "display_data"
    },
    {
     "name": "stdout",
     "output_type": "stream",
     "text": [
      "1/1 [==============================] - 0s 137ms/step\n",
      "손글씨 이미지 예측값 :  [[6.0235197e-06 1.3340484e-07 4.8277871e-09 1.2536967e-04 7.0502018e-03\n",
      "  1.5722614e-04 1.6991426e-10 9.6174469e-03 2.2219623e-04 9.8282146e-01]]\n"
     ]
    }
   ],
   "source": [
    "from tensorflow import keras\n",
    "from tensorflow.keras.datasets import mnist\n",
    "from tensorflow.keras.models import load_model\n",
    "import matplotlib.pyplot as plt\n",
    "\n",
    "# MNIST 데이터셋 가져오기 \n",
    "_, (x_test, y_test) = mnist.load_data()\n",
    "x_test = x_test / 255 #데이터 정규화\n",
    "\n",
    "# 모델 불러오기 \n",
    "#summary() 함수로 저장된 모델 정보를 확인한다\n",
    "model = keras.models.load_model('mnist_model.h5')\n",
    "model.summary()\n",
    "model.evaluate(x_test, y_test,verbose=2)\n",
    "\n",
    "# 테스트셋에서 20번째 이미지 출력 \n",
    "#imshow() 함수를 이용해 테스트셋의 20번재 숫자 이미지를 흑백으로 출력\n",
    "plt.imshow(x_test[20],cmap=\"gray\")\n",
    "plt.show()\n",
    "\n",
    "#테스트셋의 20번재 이미지 클래스 분류 \n",
    "#predict() 함수는 입력 데이터에 대해 클래스를 예측(분류)한 값을 반환한다.\n",
    "picks = [20]\n",
    "predict = model.predict(x_test[picks])\n",
    "print(\"손글씨 이미지 예측값 : \", predict)"
   ]
  }
 ],
 "metadata": {
  "accelerator": "GPU",
  "colab": {
   "gpuType": "T4",
   "provenance": []
  },
  "gpuClass": "standard",
  "kernelspec": {
   "display_name": "Python 3 (ipykernel)",
   "language": "python",
   "name": "python3"
  },
  "language_info": {
   "codemirror_mode": {
    "name": "ipython",
    "version": 3
   },
   "file_extension": ".py",
   "mimetype": "text/x-python",
   "name": "python",
   "nbconvert_exporter": "python",
   "pygments_lexer": "ipython3",
   "version": "3.11.3"
  }
 },
 "nbformat": 4,
 "nbformat_minor": 1
}
