{
 "cells": [
  {
   "cell_type": "code",
   "execution_count": 2,
   "id": "a74a8b2a",
   "metadata": {},
   "outputs": [
    {
     "name": "stdout",
     "output_type": "stream",
     "text": [
      "원격 저장\n",
      "원격파일 저장\n",
      "원격 파일 저장\n",
      "반갑 저장\n",
      "반가워요 저장\n",
      "{B_FOOD} 주문할게요 저장\n",
      "{B_FOOD} 주문할게요 저장\n",
      "{B_DT} 예약 저장\n",
      "None 저장\n",
      "DB 연결 종료\n"
     ]
    }
   ],
   "source": [
    "import pymysql\n",
    "import openpyxl\n",
    "\n",
    "# 학습 데이터 초기화\n",
    "def all_clear_train_data(db):\n",
    "    # 기존 학습 데이터 삭제\n",
    "    sql = '''\n",
    "            delete from chatbot_train_data\n",
    "        '''\n",
    "    with db.cursor() as cursor:\n",
    "        cursor.execute(sql)\n",
    "\n",
    "    # auto increment 초기화\n",
    "    sql = '''\n",
    "    ALTER TABLE chatbot_train_data AUTO_INCREMENT=1\n",
    "    '''\n",
    "    with db.cursor() as cursor:\n",
    "        cursor.execute(sql)\n",
    "\n",
    "\n",
    "# db에 데이터 저장\n",
    "def insert_data(db, xls_row):\n",
    "    intent, ner, query, answer, answer_img_url = xls_row\n",
    "\n",
    "    sql = '''\n",
    "        INSERT chatbot_train_data(intent, ner, query, answer, answer_image) \n",
    "        values(\n",
    "         '%s', '%s', '%s', '%s', '%s'\n",
    "        )\n",
    "    ''' % (intent.value, ner.value, query.value, answer.value, answer_img_url.value)\n",
    "\n",
    "    # 엑셀에서 불러온 cell에 데이터가 없는 경우, null 로 치환\n",
    "    sql = sql.replace(\"'None'\", \"null\")\n",
    "\n",
    "    with db.cursor() as cursor:\n",
    "        cursor.execute(sql)\n",
    "        print('{} 저장'.format(query.value))\n",
    "        db.commit()\n",
    "\n",
    "\n",
    "train_file = './train_data.xlsx'\n",
    "db = None\n",
    "try:\n",
    "    db = pymysql.connect(\n",
    "        host = 'localhost',\n",
    "        user = 'root',\n",
    "        passwd = 'root',\n",
    "        db = 'chatbot',\n",
    "        charset='utf8',    \n",
    "    )\n",
    "\n",
    "    # 기존 학습 데이터 초기화\n",
    "    all_clear_train_data(db)\n",
    "\n",
    "    # 학습 엑셀 파일 불러오기\n",
    "    wb = openpyxl.load_workbook(train_file)\n",
    "    sheet = wb['Sheet1']\n",
    "    for row in sheet.iter_rows(min_row=2): # 해더는 불러오지 않음\n",
    "        # 데이터 저장\n",
    "        insert_data(db, row)\n",
    "\n",
    "    wb.close()\n",
    "\n",
    "except Exception as e:\n",
    "    print(e)\n",
    "\n",
    "finally:\n",
    "    if db is not None:\n",
    "        db.close()\n",
    "        print(\"DB 연결 종료\")\n"
   ]
  },
  {
   "cell_type": "code",
   "execution_count": null,
   "id": "84a8e49c",
   "metadata": {},
   "outputs": [],
   "source": []
  }
 ],
 "metadata": {
  "kernelspec": {
   "display_name": "Python 3 (ipykernel)",
   "language": "python",
   "name": "python3"
  },
  "language_info": {
   "codemirror_mode": {
    "name": "ipython",
    "version": 3
   },
   "file_extension": ".py",
   "mimetype": "text/x-python",
   "name": "python",
   "nbconvert_exporter": "python",
   "pygments_lexer": "ipython3",
   "version": "3.10.9"
  }
 },
 "nbformat": 4,
 "nbformat_minor": 5
}
