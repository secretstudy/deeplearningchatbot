{
 "cells": [
  {
   "cell_type": "markdown",
   "id": "663c2acc",
   "metadata": {},
   "source": [
    "# 사용자 정의 함수"
   ]
  },
  {
   "cell_type": "code",
   "execution_count": 2,
   "id": "21b9d7c6",
   "metadata": {},
   "outputs": [
    {
     "data": {
      "text/plain": [
       "30"
      ]
     },
     "execution_count": 2,
     "metadata": {},
     "output_type": "execute_result"
    }
   ],
   "source": [
    "def add(a,b):\n",
    "    return a+b# a+b결과 반환\n",
    "add(10, 20)"
   ]
  },
  {
   "cell_type": "code",
   "execution_count": 8,
   "id": "16dcbc59",
   "metadata": {},
   "outputs": [
    {
     "name": "stdout",
     "output_type": "stream",
     "text": [
      "name : Kei\n",
      "age : 35\n",
      "age : 86\n"
     ]
    }
   ],
   "source": [
    "def print_user(user, score):\n",
    "    print(\"name : %s\" %  user['name'])\n",
    "    print(\"age : %s\" %  user['age'])\n",
    "    print(\"age : %s\" %  score)\n",
    "\n",
    "user = {'name' : 'Kei' , 'age' : 35} # user 정보 저장\n",
    "score = 86 # score 정보 저장\n",
    "    \n",
    "print_user(user, score)"
   ]
  },
  {
   "cell_type": "markdown",
   "id": "febb8373",
   "metadata": {},
   "source": [
    "   # 내장 함수\n",
    "   # (format, enumerate, str, join,\n",
    "   # split, id, find, strip, filter, lambda,map)"
   ]
  },
  {
   "cell_type": "markdown",
   "id": "177070ea",
   "metadata": {},
   "source": [
    "   ## format"
   ]
  },
  {
   "cell_type": "code",
   "execution_count": 10,
   "id": "26fb710f",
   "metadata": {},
   "outputs": [
    {
     "name": "stdout",
     "output_type": "stream",
     "text": [
      "integer : 15 / float : 3.14 / string : hello\n"
     ]
    }
   ],
   "source": [
    "print('integer : {} / float : {} / string : {}'.format(10, 3.14,\"hello\")) #인덱스에 맞게 값 삽입"
   ]
  },
  {
   "cell_type": "code",
   "execution_count": 11,
   "id": "caa42d9b",
   "metadata": {},
   "outputs": [
    {
     "name": "stdout",
     "output_type": "stream",
     "text": [
      "integer : 10 / float : 3.14 / string : hello\n"
     ]
    }
   ],
   "source": [
    "print('integer : {0} / float : {1} / string : {2}'.format(10, 3.14,\"hello\")) #인덱스 순서를 정해 값 삽입"
   ]
  },
  {
   "cell_type": "code",
   "execution_count": 14,
   "id": "8202f2f2",
   "metadata": {},
   "outputs": [
    {
     "name": "stdout",
     "output_type": "stream",
     "text": [
      "integer : hello / float : 3.14 / string : 10\n"
     ]
    }
   ],
   "source": [
    "print('integer : {2} / float : {1} / string : {0}'.format(10, 3.14,\"hello\")) #인덱스 순서를 임의로 바꿔 대입"
   ]
  },
  {
   "cell_type": "markdown",
   "id": "2c7a0895",
   "metadata": {},
   "source": [
    "   ## enumerate"
   ]
  },
  {
   "cell_type": "code",
   "execution_count": 15,
   "id": "c3b9471f",
   "metadata": {},
   "outputs": [
    {
     "name": "stdout",
     "output_type": "stream",
     "text": [
      "index:0 / value10\n",
      "index:1 / value11\n",
      "index:2 / value12\n",
      "index:3 / value13\n",
      "index:4 / value14\n"
     ]
    }
   ],
   "source": [
    "numbers = [10,11,12,13,14]\n",
    "for idx, value in enumerate(numbers):\n",
    "    print('index:{} / value{}'.format(idx,value))\n",
    "    "
   ]
  },
  {
   "cell_type": "markdown",
   "id": "a07c0bcd",
   "metadata": {},
   "source": [
    "   ## str 입력으로 들어온 데이터를 문자열로 반환"
   ]
  },
  {
   "cell_type": "code",
   "execution_count": 16,
   "id": "8bb02347",
   "metadata": {},
   "outputs": [
    {
     "data": {
      "text/plain": [
       "'10'"
      ]
     },
     "execution_count": 16,
     "metadata": {},
     "output_type": "execute_result"
    }
   ],
   "source": [
    "str(10)"
   ]
  },
  {
   "cell_type": "code",
   "execution_count": 17,
   "id": "b5bcc742",
   "metadata": {},
   "outputs": [
    {
     "data": {
      "text/plain": [
       "str"
      ]
     },
     "execution_count": 17,
     "metadata": {},
     "output_type": "execute_result"
    }
   ],
   "source": [
    "type(str(10))"
   ]
  },
  {
   "cell_type": "code",
   "execution_count": 19,
   "id": "b513558b",
   "metadata": {},
   "outputs": [
    {
     "data": {
      "text/plain": [
       "'hello'"
      ]
     },
     "execution_count": 19,
     "metadata": {},
     "output_type": "execute_result"
    }
   ],
   "source": [
    "str('hello')"
   ]
  },
  {
   "cell_type": "code",
   "execution_count": 20,
   "id": "18ca9fb7",
   "metadata": {},
   "outputs": [
    {
     "data": {
      "text/plain": [
       "'HELLO'"
      ]
     },
     "execution_count": 20,
     "metadata": {},
     "output_type": "execute_result"
    }
   ],
   "source": [
    "str('hello'.upper()) # upper()는 대문자 변환"
   ]
  },
  {
   "cell_type": "code",
   "execution_count": 16,
   "id": "4a4dfd08",
   "metadata": {},
   "outputs": [
    {
     "data": {
      "text/plain": [
       "'10'"
      ]
     },
     "execution_count": 16,
     "metadata": {},
     "output_type": "execute_result"
    }
   ],
   "source": [
    "str('HELLO'.lower()) # lower()는 소문자 변환"
   ]
  },
  {
   "cell_type": "code",
   "execution_count": 21,
   "id": "cc604b3b",
   "metadata": {},
   "outputs": [
    {
     "data": {
      "text/plain": [
       "'[1, 2, 3]'"
      ]
     },
     "execution_count": 21,
     "metadata": {},
     "output_type": "execute_result"
    }
   ],
   "source": [
    "str([1,2,3])"
   ]
  },
  {
   "cell_type": "markdown",
   "id": "a25f8756",
   "metadata": {},
   "source": [
    "   ## join"
   ]
  },
  {
   "cell_type": "code",
   "execution_count": 25,
   "id": "124f05a7",
   "metadata": {
    "scrolled": false
   },
   "outputs": [
    {
     "data": {
      "text/plain": [
       "'Kei,Tonny,Grace,Jenny,Jaeyoo'"
      ]
     },
     "execution_count": 25,
     "metadata": {},
     "output_type": "execute_result"
    }
   ],
   "source": [
    "names = ['Kei', 'Tonny', 'Grace','Jenny','Jaeyoo']\n",
    "\n",
    "','.join(names) # 문자열 다음에 , 찍기"
   ]
  },
  {
   "cell_type": "markdown",
   "id": "619e8581",
   "metadata": {},
   "source": [
    "   ## split"
   ]
  },
  {
   "cell_type": "code",
   "execution_count": 26,
   "id": "bca7ce8b",
   "metadata": {
    "scrolled": false
   },
   "outputs": [
    {
     "data": {
      "text/plain": [
       "['Kei', 'Tonny', 'Grace', 'Jenny', 'Jaeyoo']"
      ]
     },
     "execution_count": 26,
     "metadata": {},
     "output_type": "execute_result"
    }
   ],
   "source": [
    "names = ['Kei', 'Tonny', 'Grace','Jenny','Jaeyoo']\n",
    "names_str = ','.join(names)\n",
    "names_split = names_str.split(',')\n",
    "names_split"
   ]
  },
  {
   "cell_type": "markdown",
   "id": "3e1d8651",
   "metadata": {},
   "source": [
    "   ## id 객체를입력받아 객체의 고유 주솟값을 반환"
   ]
  },
  {
   "cell_type": "code",
   "execution_count": 27,
   "id": "0d9b7d02",
   "metadata": {},
   "outputs": [
    {
     "data": {
      "text/plain": [
       "140707493614664"
      ]
     },
     "execution_count": 27,
     "metadata": {},
     "output_type": "execute_result"
    }
   ],
   "source": [
    "a = 10\n",
    "id(a)"
   ]
  },
  {
   "cell_type": "code",
   "execution_count": 28,
   "id": "b2573288",
   "metadata": {},
   "outputs": [
    {
     "data": {
      "text/plain": [
       "140707493614664"
      ]
     },
     "execution_count": 28,
     "metadata": {},
     "output_type": "execute_result"
    }
   ],
   "source": [
    "b = a\n",
    "id(b) # a는 대입했기때문에 같은 주소를 출력 b와a는 같은 객체"
   ]
  },
  {
   "cell_type": "markdown",
   "id": "d95d4c3f",
   "metadata": {},
   "source": [
    "   ## find 대장 문자열의 위치를 찾는 함수. 못찾으면 -1\n",
    "   "
   ]
  },
  {
   "cell_type": "code",
   "execution_count": 30,
   "id": "65b9fada",
   "metadata": {},
   "outputs": [
    {
     "data": {
      "text/plain": [
       "10"
      ]
     },
     "execution_count": 30,
     "metadata": {},
     "output_type": "execute_result"
    }
   ],
   "source": [
    "str = \"I want to be a great programmer\"\n",
    "str.find(\"be\")"
   ]
  },
  {
   "cell_type": "code",
   "execution_count": 31,
   "id": "e4e4ecad",
   "metadata": {},
   "outputs": [
    {
     "data": {
      "text/plain": [
       "0"
      ]
     },
     "execution_count": 31,
     "metadata": {},
     "output_type": "execute_result"
    }
   ],
   "source": [
    "str.find(\"I\")"
   ]
  },
  {
   "cell_type": "code",
   "execution_count": 33,
   "id": "44842c9c",
   "metadata": {},
   "outputs": [
    {
     "data": {
      "text/plain": [
       "-1"
      ]
     },
     "execution_count": 33,
     "metadata": {},
     "output_type": "execute_result"
    }
   ],
   "source": [
    "str.find(\"i\") # 못찾아서 -1"
   ]
  },
  {
   "cell_type": "markdown",
   "id": "fe97c768",
   "metadata": {},
   "source": [
    "   ## filter \n",
    "   ## 개별 요소를 반복적으로 셍수있는 객체를 입력받아\n",
    "   ## 각 요소를 함수로 수행한 후 결과가 True인 것만 \n",
    "   ## 묶어서 반환합니다"
   ]
  },
  {
   "cell_type": "code",
   "execution_count": 35,
   "id": "5f2838e5",
   "metadata": {},
   "outputs": [
    {
     "name": "stdout",
     "output_type": "stream",
     "text": [
      "[2, 4, 6, 8, 10, 12, 14, 16, 18, 20]\n"
     ]
    }
   ],
   "source": [
    "def is_even(number):\n",
    "    return number % 2 == 0\n",
    "\n",
    "numbers = range(1,21)\n",
    "even_list = list(filter(is_even, numbers))\n",
    "print(even_list)"
   ]
  },
  {
   "attachments": {
    "image.png": {
     "image/png": "[encoded data removed]"
    }
   },
   "cell_type": "markdown",
   "id": "f08fbebd",
   "metadata": {},
   "source": [
    "   ## lambda\n",
    "   ### 함수를 생성할 때 사용하는 키워드 \n",
    "   ### def 보다 간결하게 사용할 수 있으며 \n",
    "   ### 익명하무이기 때문에 한번 사용되고 나면\n",
    "   ### heap메모리 영역에서 삭제되어 메모리 효율이 장점\n",
    "   ![image.png](attachment:image.png)"
   ]
  },
  {
   "cell_type": "code",
   "execution_count": 36,
   "id": "65729430",
   "metadata": {},
   "outputs": [
    {
     "data": {
      "text/plain": [
       "4"
      ]
     },
     "execution_count": 36,
     "metadata": {},
     "output_type": "execute_result"
    }
   ],
   "source": [
    "f = lambda x: x*2\n",
    "f(2)"
   ]
  },
  {
   "cell_type": "code",
   "execution_count": 37,
   "id": "ab02f331",
   "metadata": {},
   "outputs": [
    {
     "data": {
      "text/plain": [
       "8"
      ]
     },
     "execution_count": 37,
     "metadata": {},
     "output_type": "execute_result"
    }
   ],
   "source": [
    "f(4)"
   ]
  },
  {
   "cell_type": "code",
   "execution_count": 38,
   "id": "d3c4680b",
   "metadata": {},
   "outputs": [
    {
     "name": "stdout",
     "output_type": "stream",
     "text": [
      "[2, 4, 6, 8, 10, 12, 14, 16, 18, 20]\n"
     ]
    }
   ],
   "source": [
    "numbers = range(1, 21)\n",
    "even_list = list(filter(lambda n: n%2==0, numbers))\n",
    "print(even_list)"
   ]
  },
  {
   "cell_type": "markdown",
   "id": "724bcf5a",
   "metadata": {},
   "source": [
    "   ## map"
   ]
  },
  {
   "cell_type": "code",
   "execution_count": 39,
   "id": "0067cf38",
   "metadata": {},
   "outputs": [
    {
     "name": "stdout",
     "output_type": "stream",
     "text": [
      "[1, 4, 9, 16]\n"
     ]
    }
   ],
   "source": [
    "def square (number):\n",
    "    return number ** 2 # 2 제곱 설정\n",
    "\n",
    "numbers = range(1, 5)\n",
    "square_list = list(map(square, numbers))\n",
    "print(square_list)"
   ]
  },
  {
   "cell_type": "markdown",
   "id": "91ceeae5",
   "metadata": {},
   "source": [
    "# 외장 함수"
   ]
  },
  {
   "cell_type": "markdown",
   "id": "b6c1dc68",
   "metadata": {},
   "source": [
    "   ## sys\n",
    "   ### 파이썬 인터프리터와 관련된 정보와 기능을 제공하는 모듈\n",
    "   "
   ]
  },
  {
   "cell_type": "code",
   "execution_count": 42,
   "id": "2e477983",
   "metadata": {},
   "outputs": [
    {
     "name": "stdout",
     "output_type": "stream",
     "text": [
      "0\n",
      "1\n",
      "2\n",
      "3\n",
      "4\n",
      "5\n",
      "6\n",
      "7\n",
      "8\n",
      "9\n",
      "10\n"
     ]
    },
    {
     "ename": "SystemExit",
     "evalue": "",
     "output_type": "error",
     "traceback": [
      "An exception has occurred, use %tb to see the full traceback.\n",
      "\u001b[1;31mSystemExit\u001b[0m\n"
     ]
    },
    {
     "name": "stderr",
     "output_type": "stream",
     "text": [
      "C:\\Users\\helio\\anaconda3\\envs\\Python_Study\\Lib\\site-packages\\IPython\\core\\interactiveshell.py:3513: UserWarning: To exit: use 'exit', 'quit', or Ctrl-D.\n",
      "  warn(\"To exit: use 'exit', 'quit', or Ctrl-D.\", stacklevel=1)\n"
     ]
    }
   ],
   "source": [
    "import sys\n",
    "for n in range(100):\n",
    "    print(n)\n",
    "    if n == 10:\n",
    "        sys.exit()"
   ]
  },
  {
   "cell_type": "markdown",
   "id": "509af9ad",
   "metadata": {},
   "source": [
    "   ## pickle"
   ]
  },
  {
   "cell_type": "code",
   "execution_count": 53,
   "id": "78c88c8c",
   "metadata": {},
   "outputs": [],
   "source": [
    "import pickle\n",
    "f = open('setting.txt', 'wb') # wb = 쓰기 모드\n",
    "setting = [{'title' : 'python program'}, {'author' : 'Kei'}]\n",
    "pickle.dump(setting, f)\n",
    "f.close()"
   ]
  },
  {
   "cell_type": "code",
   "execution_count": 54,
   "id": "e9011e7f",
   "metadata": {},
   "outputs": [
    {
     "name": "stdout",
     "output_type": "stream",
     "text": [
      "[{'title': 'python program'}, {'author': 'Kei'}]\n"
     ]
    }
   ],
   "source": [
    "import pickle\n",
    "f = open('setting.txt', 'rb') # rb = 읽기 모드\n",
    "setting = pickle.load(f)\n",
    "f.close()\n",
    "print(setting)"
   ]
  },
  {
   "cell_type": "markdown",
   "id": "fa143800",
   "metadata": {},
   "source": [
    "   ## time"
   ]
  },
  {
   "cell_type": "code",
   "execution_count": 55,
   "id": "ab69f628",
   "metadata": {},
   "outputs": [
    {
     "data": {
      "text/plain": [
       "1683539428.0844016"
      ]
     },
     "execution_count": 55,
     "metadata": {},
     "output_type": "execute_result"
    }
   ],
   "source": [
    "import time\n",
    "time.time()"
   ]
  },
  {
   "cell_type": "code",
   "execution_count": 56,
   "id": "5f34d896",
   "metadata": {},
   "outputs": [
    {
     "data": {
      "text/plain": [
       "time.struct_time(tm_year=2023, tm_mon=5, tm_mday=8, tm_hour=18, tm_min=51, tm_sec=6, tm_wday=0, tm_yday=128, tm_isdst=0)"
      ]
     },
     "execution_count": 56,
     "metadata": {},
     "output_type": "execute_result"
    }
   ],
   "source": [
    "import time\n",
    "time.localtime(time.time())"
   ]
  },
  {
   "cell_type": "code",
   "execution_count": 58,
   "id": "a0cdaf7e",
   "metadata": {},
   "outputs": [
    {
     "data": {
      "text/plain": [
       "'2023/05/08 18:54:47'"
      ]
     },
     "execution_count": 58,
     "metadata": {},
     "output_type": "execute_result"
    }
   ],
   "source": [
    "import time\n",
    "lt = time.localtime(time.time())\n",
    "time.strftime('%Y/%m/%d %H:%M:%S', lt)"
   ]
  },
  {
   "cell_type": "markdown",
   "id": "d96c8d9a",
   "metadata": {},
   "source": [
    "   ## random"
   ]
  },
  {
   "cell_type": "code",
   "execution_count": 60,
   "id": "f1f58414",
   "metadata": {
    "scrolled": true
   },
   "outputs": [
    {
     "data": {
      "text/plain": [
       "0.8093007609331595"
      ]
     },
     "execution_count": 60,
     "metadata": {},
     "output_type": "execute_result"
    }
   ],
   "source": [
    "import random\n",
    "random.random() # random 함수는 0~1사이의 실수를 랜덤으로 반환"
   ]
  },
  {
   "cell_type": "code",
   "execution_count": 61,
   "id": "b5a62dc2",
   "metadata": {},
   "outputs": [
    {
     "data": {
      "text/plain": [
       "1.9587159364926416"
      ]
     },
     "execution_count": 61,
     "metadata": {},
     "output_type": "execute_result"
    }
   ],
   "source": [
    "import random\n",
    "random.uniform(1, 2) #1 <= random <2"
   ]
  },
  {
   "cell_type": "code",
   "execution_count": 76,
   "id": "6a13b0ed",
   "metadata": {},
   "outputs": [
    {
     "data": {
      "text/plain": [
       "5"
      ]
     },
     "execution_count": 76,
     "metadata": {},
     "output_type": "execute_result"
    }
   ],
   "source": [
    "random.randint(1,5) # 1~5까지"
   ]
  }
 ],
 "metadata": {
  "kernelspec": {
   "display_name": "Python 3 (ipykernel)",
   "language": "python",
   "name": "python3"
  },
  "language_info": {
   "codemirror_mode": {
    "name": "ipython",
    "version": 3
   },
   "file_extension": ".py",
   "mimetype": "text/x-python",
   "name": "python",
   "nbconvert_exporter": "python",
   "pygments_lexer": "ipython3",
   "version": "3.11.3"
  }
 },
 "nbformat": 4,
 "nbformat_minor": 5
}
