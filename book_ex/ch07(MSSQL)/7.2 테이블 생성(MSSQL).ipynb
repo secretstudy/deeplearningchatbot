{
 "cells": [
  {
   "cell_type": "code",
   "execution_count": 3,
   "id": "d8dc601a",
   "metadata": {},
   "outputs": [
    {
     "name": "stdout",
     "output_type": "stream",
     "text": [
      "DB 연결 성공!!\n",
      "쿼리 동작 후\n",
      "DB 연결 종료\n"
     ]
    }
   ],
   "source": [
    "from os import getenv\n",
    "import pymssql\n",
    "\n",
    "db = None\n",
    "server = \"DESKTOP-TKJKRAC\"\n",
    "username = \"root_study\"\n",
    "password = \"root\"\n",
    "database =  \"CHATBOT\"\n",
    "\n",
    "db = pymssql.connect(server, username, password,database)\n",
    "cursor = db.cursor()\n",
    "print(\"DB 연결 성공!!\")\n",
    "    \n",
    "cursor.execute(\"\"\"\n",
    "CREATE TABLE tb_student (\n",
    "    id int IDENTITY(1,1) PRIMARY KEY,\n",
    "    name varchar(32),\n",
    "    age int,\n",
    "    address varchar(32)\n",
    ")\n",
    "    \"\"\")\n",
    "db.commit()    \n",
    "print(\"쿼리 동작 후\")\n",
    "\n",
    "db.close()\n",
    "print(\"DB 연결 종료\")"
   ]
  }
 ],
 "metadata": {
  "kernelspec": {
   "display_name": "Python 3 (ipykernel)",
   "language": "python",
   "name": "python3"
  },
  "language_info": {
   "codemirror_mode": {
    "name": "ipython",
    "version": 3
   },
   "file_extension": ".py",
   "mimetype": "text/x-python",
   "name": "python",
   "nbconvert_exporter": "python",
   "pygments_lexer": "ipython3",
   "version": "3.10.9"
  }
 },
 "nbformat": 4,
 "nbformat_minor": 5
}
