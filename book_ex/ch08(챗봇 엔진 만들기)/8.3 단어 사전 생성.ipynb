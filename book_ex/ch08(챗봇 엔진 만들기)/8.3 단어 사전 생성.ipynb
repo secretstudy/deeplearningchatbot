{
 "cells": [
  {
   "cell_type": "code",
   "execution_count": 2,
   "id": "7a3f2665",
   "metadata": {},
   "outputs": [
    {
     "name": "stdout",
     "output_type": "stream",
     "text": [
      "파일 열기 시작\n",
      "파일 종료\n"
     ]
    }
   ],
   "source": [
    "from Preprocess import *\n",
    "from tensorflow.keras import preprocessing\n",
    "import pickle\n",
    "\n",
    "# 말뭉치 데이터 읽어오기\n",
    "def read_corpus_data(filename):\n",
    "    with open(filename, 'r', encoding='utf-8') as f:\n",
    "        data = [line.split('\\t') for line in f.read().splitlines()]\n",
    "        data = data[1:] # 헤더 제거\n",
    "    return data\n",
    "\n",
    "#말뭉치 데이터 가져오기 \n",
    "#read_corpus_data함수는 파일을 읽어와 리스트로 반환합니다.\n",
    "corpus_data = read_corpus_data('./corpus.txt')\n",
    "\n",
    "#말뭉치 데이터에서 키워드만 추출해서 사전 리스트 생성 \n",
    "#데이터 리스트에서 문장을 한개씩 가져와 POS 태깅한다.\n",
    "p = Preprocess()\n",
    "dict = []\n",
    "for c in corpus_data:\n",
    "    pos = p.pos(c[1])\n",
    "    for k in pos:\n",
    "        dict.append(k[0])\n",
    "        \n",
    "        \n",
    "#사전에 사용될 word2index 생성\n",
    "# 사전의 첫 번째 인덱스에는 OOOV 사용\n",
    "#토크나이저를 이용해 단어 리스트(dict)를 단어 인덱스 딕셔너리 테이터로 만든다.\n",
    "tokenizer = preprocessing.text.Tokenizer(oov_token='OOV')\n",
    "tokenizer.fit_on_texts(dict)\n",
    "word_index = tokenizer.word_index\n",
    "\n",
    "#사전 파일 생성 \n",
    "#생성된 단어 인덱스 딕셔너리 객체를 파일로 저장한다.\n",
    "\n",
    "f = open(\"chatbot_dict.bin\",\"wb\")\n",
    "try:\n",
    "    pickle.dump(word_index, f)\n",
    "except Exception as e:\n",
    "    print(e)\n",
    "finally:\n",
    "    f.close()\n",
    "    print(\"파일 종료\")\n"
   ]
  },
  {
   "cell_type": "code",
   "execution_count": null,
   "id": "3aefed2a",
   "metadata": {},
   "outputs": [],
   "source": []
  }
 ],
 "metadata": {
  "kernelspec": {
   "display_name": "Python 3 (ipykernel)",
   "language": "python",
   "name": "python3"
  },
  "language_info": {
   "codemirror_mode": {
    "name": "ipython",
    "version": 3
   },
   "file_extension": ".py",
   "mimetype": "text/x-python",
   "name": "python",
   "nbconvert_exporter": "python",
   "pygments_lexer": "ipython3",
   "version": "3.10.9"
  }
 },
 "nbformat": 4,
 "nbformat_minor": 5
}
