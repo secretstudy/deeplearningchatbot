{
 "cells": [
  {
   "cell_type": "code",
   "execution_count": 7,
   "id": "ba5850f4",
   "metadata": {},
   "outputs": [
    {
     "name": "stdout",
     "output_type": "stream",
     "text": [
      "[('설치', 'NNG'), ('하', 'VV'), ('싶', 'VX'), ('원격', 'NNG'), ('가능', 'NNG'), ('하', 'VX')]\n",
      "['설치', '하', '싶', '원격', '가능', '하']\n"
     ]
    }
   ],
   "source": [
    "from Preprocess import Preprocess\n",
    "\n",
    "#sent = \"내일 오전 10시에 짬뽕 주문하고 싶어ㅋㅋ\"\n",
    "#sent = \"원격지원  어떻게 해요?\"\n",
    "sent = \"설치를 하고 싶은데 원격가능 할까요?\"\n",
    "\n",
    "# 전처리 객체 생성 \n",
    "p = Preprocess(userdic='../ch08(챗봇엔진 만들기)user_dic.tsv')\n",
    "\n",
    "# 형태소 분석기 실행\n",
    "pos = p.pos(sent)\n",
    "\n",
    "\n",
    "\n",
    "# 품사 태그와 같이 키워드 출력\n",
    "ret = p.get_keywords(pos, without_tag=False)\n",
    "print(ret)\n",
    "\n",
    "# 품사 태그와 없이 키워드 출력\n",
    "ret = p.get_keywords(pos, without_tag=True)\n",
    "print(ret)"
   ]
  },
  {
   "cell_type": "code",
   "execution_count": null,
   "id": "cd939ac4",
   "metadata": {},
   "outputs": [],
   "source": []
  }
 ],
 "metadata": {
  "kernelspec": {
   "display_name": "Python 3 (ipykernel)",
   "language": "python",
   "name": "python3"
  },
  "language_info": {
   "codemirror_mode": {
    "name": "ipython",
    "version": 3
   },
   "file_extension": ".py",
   "mimetype": "text/x-python",
   "name": "python",
   "nbconvert_exporter": "python",
   "pygments_lexer": "ipython3",
   "version": "3.10.9"
  }
 },
 "nbformat": 4,
 "nbformat_minor": 5
}
