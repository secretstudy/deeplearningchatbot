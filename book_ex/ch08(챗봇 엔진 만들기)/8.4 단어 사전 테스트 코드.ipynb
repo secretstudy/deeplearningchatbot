{
 "cells": [
  {
   "cell_type": "code",
   "execution_count": 5,
   "id": "cf98d564",
   "metadata": {},
   "outputs": [
    {
     "name": "stdout",
     "output_type": "stream",
     "text": [
      "내일 14\n",
      "오전 269\n",
      "10 105\n",
      "시 4\n",
      "짬뽕 202\n",
      "주문 3\n",
      "싶어ㅋㅋ 1\n"
     ]
    }
   ],
   "source": [
    "import pickle\n",
    "from Preprocess import Preprocess\n",
    "\n",
    "f = open(\"../ch08(챗봇엔진 만들기)/chatbot_dict.bin\", \"rb\")\n",
    "word_index = pickle.load(f)\n",
    "f.close()\n",
    "\n",
    "sent = \"내일 오전 10시에 짬뽕 주문하고 싶어ㅋㅋ\"\n",
    "#sent = \"원격지원  어떻게 해요?\"\n",
    "#sent = \"설치를 하고 싶은데 원격가능 할까요?\"\n",
    "\n",
    "# 전처리 객체 생성\n",
    "p = Preprocess(userdic='../ch08(챗봇엔진 만들기)user_dic.tsv')\n",
    "\n",
    "#형태소 분석기 실행\n",
    "pos = p.pos(sent)\n",
    "\n",
    "#품사 태그 없이 키워드 출력\n",
    "keywords = p.get_keywords(pos, without_tag=True)\n",
    "for word in keywords:\n",
    "    try:\n",
    "        print(word, word_index[word])\n",
    "    except KeyError:\n",
    "        # 해당 단어가 사전에 없는 경우, OOV 처리\n",
    "        print(word, word_index['OOV'])\n"
   ]
  },
  {
   "cell_type": "code",
   "execution_count": null,
   "id": "3d4c593b",
   "metadata": {},
   "outputs": [],
   "source": []
  }
 ],
 "metadata": {
  "kernelspec": {
   "display_name": "Python 3 (ipykernel)",
   "language": "python",
   "name": "python3"
  },
  "language_info": {
   "codemirror_mode": {
    "name": "ipython",
    "version": 3
   },
   "file_extension": ".py",
   "mimetype": "text/x-python",
   "name": "python",
   "nbconvert_exporter": "python",
   "pygments_lexer": "ipython3",
   "version": "3.10.9"
  }
 },
 "nbformat": 4,
 "nbformat_minor": 5
}
